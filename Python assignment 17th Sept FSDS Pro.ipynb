{
 "cells": [
  {
   "cell_type": "markdown",
   "id": "9e127bfb-3d61-40fe-be47-c8f47b7f8f5e",
   "metadata": {},
   "source": [
    "# For Loop :-"
   ]
  },
  {
   "cell_type": "markdown",
   "id": "228cc1e0-1947-4b63-b3e4-d167fa02bb0a",
   "metadata": {},
   "source": [
    "# Write a Python program to print numbers from 1 to 10 using a for loop."
   ]
  },
  {
   "cell_type": "code",
   "execution_count": 1,
   "id": "be9fd8f0-040b-49b7-a111-340e0a1df455",
   "metadata": {},
   "outputs": [
    {
     "name": "stdout",
     "output_type": "stream",
     "text": [
      "1\n",
      "2\n",
      "3\n",
      "4\n",
      "5\n",
      "6\n",
      "7\n",
      "8\n",
      "9\n"
     ]
    }
   ],
   "source": [
    "for number in range(1,10):\n",
    "    print(number)"
   ]
  },
  {
   "cell_type": "markdown",
   "id": "408b690e-24df-48b6-aa71-4e87b33b994d",
   "metadata": {},
   "source": [
    "# 2:Explain the difference between a for loop and a while loop in Python."
   ]
  },
  {
   "cell_type": "markdown",
   "id": "039dc061-580a-42a6-8096-0d2390df6e37",
   "metadata": {},
   "source": [
    "For loop is used to iterate over a sequence of items. While loop is used to repeatedly execute a block of statements while a condition is true. For loops are designed for iterating over a sequence of items. "
   ]
  },
  {
   "cell_type": "markdown",
   "id": "6d5f55f7-05f7-40cd-887f-0118f50d1b4f",
   "metadata": {},
   "source": [
    "# 3:Write a Python program to calculate the sum of all numbers from 1 to 100 using a for loop."
   ]
  },
  {
   "cell_type": "code",
   "execution_count": 2,
   "id": "da2d5b94-fbb6-4bc8-ad93-61cd77fed159",
   "metadata": {},
   "outputs": [
    {
     "name": "stdout",
     "output_type": "stream",
     "text": [
      "The sum of all numbers from 1 to 100 is: 5050\n"
     ]
    }
   ],
   "source": [
    "# Initialize a variable to store the sum\n",
    "total_sum = 0\n",
    "\n",
    "# Use a for loop to iterate through numbers from 1 to 100 (inclusive)\n",
    "for num in range(1, 101):\n",
    "    # Add the current number to the total sum\n",
    "    total_sum += num\n",
    "\n",
    "# Print the result\n",
    "print(\"The sum of all numbers from 1 to 100 is:\", total_sum)\n"
   ]
  },
  {
   "cell_type": "markdown",
   "id": "4161e56c-fbc5-4cd8-bf05-a6652c8063a8",
   "metadata": {},
   "source": [
    "explanation :  In this program, the range(1, 101) generates a sequence of numbers from 1 to 100 (inclusive), and the for loop iterates through each number in this range. The total_sum variable is used to accumulate the sum, and finally, the result is printed.\n",
    "\n",
    "\n",
    "\n",
    "\n",
    "\n"
   ]
  },
  {
   "cell_type": "markdown",
   "id": "a8ec2639-058d-4bb2-8252-a204bfc7ffdf",
   "metadata": {},
   "source": [
    "# 4:How do you iterate through a list using a for loop in Python?"
   ]
  },
  {
   "cell_type": "code",
   "execution_count": 3,
   "id": "880439dc-98a9-40b2-8239-fb841b80cce6",
   "metadata": {},
   "outputs": [
    {
     "name": "stdout",
     "output_type": "stream",
     "text": [
      "3\n",
      "4\n",
      "67\n",
      "5\n",
      "4\n",
      "8\n"
     ]
    }
   ],
   "source": [
    "my_list=[3,4,67,5,4,8]\n",
    "for element in my_list:\n",
    "    print(element)"
   ]
  },
  {
   "cell_type": "markdown",
   "id": "2f628e0f-b369-40d4-a69a-6d69a80b50ba",
   "metadata": {},
   "source": [
    "In this loop, element represents each item in the my_list, and the indented code block is executed for each element. Replace my_list with the name of your list, and the loop will iterate through its elements."
   ]
  },
  {
   "cell_type": "markdown",
   "id": "96a59310-dab8-405d-982d-651393cedade",
   "metadata": {},
   "source": [
    "# 5:Write a Python program to find the product of all elements in a list using a for loop."
   ]
  },
  {
   "cell_type": "code",
   "execution_count": 4,
   "id": "8aefcc0e-d2f9-4c18-8d43-67a36a0129dc",
   "metadata": {},
   "outputs": [
    {
     "name": "stdout",
     "output_type": "stream",
     "text": [
      "the product of all element in the list is 2\n",
      "the product of all element in the list is 6\n",
      "the product of all element in the list is 276\n",
      "the product of all element in the list is 1932\n",
      "the product of all element in the list is 17388\n",
      "the product of all element in the list is 69552\n"
     ]
    }
   ],
   "source": [
    "my_list=[2,3,46,7,9,4]\n",
    "product=1\n",
    "for element in my_list:\n",
    "    product*=element\n",
    "    print(\"the product of all element in the list is\", product)"
   ]
  },
  {
   "cell_type": "markdown",
   "id": "b89ac5b8-8bbe-468d-81cf-c5c3dce5693a",
   "metadata": {},
   "source": [
    "In this program, the product variable is initialized to 1, and a for loop is used to iterate through each element in the list. The product is updated by multiplying it with each element during each iteration. Finally, the result is printed. You can replace my_list with your own list of numbers."
   ]
  },
  {
   "cell_type": "markdown",
   "id": "7544c184-46fe-4c1a-adc5-cf0ae39ff18c",
   "metadata": {},
   "source": [
    "# 6:Create a Python program that prints all even numbers from 1 to 20 using a for loop."
   ]
  },
  {
   "cell_type": "code",
   "execution_count": 5,
   "id": "4e1cc67b-3af7-44d0-a991-7593421bcb66",
   "metadata": {},
   "outputs": [
    {
     "name": "stdout",
     "output_type": "stream",
     "text": [
      "2\n",
      "4\n",
      "6\n",
      "8\n"
     ]
    }
   ],
   "source": [
    "for number in range(1, 10):\n",
    "    if number %2==0:\n",
    "        print(number)\n",
    "     "
   ]
  },
  {
   "cell_type": "code",
   "execution_count": null,
   "id": "aa036f0e-d2e3-437d-865d-ffea9c931b3b",
   "metadata": {},
   "outputs": [],
   "source": []
  },
  {
   "cell_type": "markdown",
   "id": "a87e53f4-e788-4939-b4a0-637fd1b77d43",
   "metadata": {},
   "source": [
    "In this program, the range(1, 21) generates a sequence of numbers from 1 to 20 (inclusive). The for loop iterates through each number in this range, and the if statement checks if the number is even (divisible by 2). If the condition is true, the even number is printed.\n",
    "\n",
    "\n",
    "\n",
    "\n",
    "\n"
   ]
  },
  {
   "cell_type": "markdown",
   "id": "10b1c1c1-c58f-4232-9a89-1d3a056d43a4",
   "metadata": {},
   "source": [
    "# 7:Write a Python program that calculates the factorial of a number using a for loop."
   ]
  },
  {
   "cell_type": "code",
   "execution_count": 6,
   "id": "c08e556b-b2ca-46e2-b2c1-56b8130b40a3",
   "metadata": {},
   "outputs": [
    {
     "name": "stdout",
     "output_type": "stream",
     "text": [
      "The factorial of 5 is: 120\n"
     ]
    }
   ],
   "source": [
    "# Function to calculate factorial\n",
    "def calculate_factorial(n):\n",
    "    factorial_result = 1\n",
    "    \n",
    "    # Check if the input is non-negative\n",
    "    if n < 0:\n",
    "        print(\"Factorial is not defined for negative numbers.\")\n",
    "        return None\n",
    "\n",
    "    # Use a for loop to calculate the factorial\n",
    "    for i in range(1, n + 1):\n",
    "        factorial_result *= i\n",
    "\n",
    "    return factorial_result\n",
    "\n",
    "# Input: Replace this with the number for which you want to calculate the factorial\n",
    "number_to_calculate = 5\n",
    "\n",
    "# Calculate and print the factorial\n",
    "result = calculate_factorial(number_to_calculate)\n",
    "\n",
    "if result is not None:\n",
    "    print(f\"The factorial of {number_to_calculate} is: {result}\")\n"
   ]
  },
  {
   "cell_type": "markdown",
   "id": "bdc8e643-216d-4345-afd9-0477ed96fc83",
   "metadata": {},
   "source": [
    "In this program, the calculate_factorial function takes an input n and calculates its factorial using a for loop. It also includes a check to ensure that the input is a non-negative integer, as the factorial is not defined for negative numbers. Replace the value of number_to_calculate with the desired number for which you want to calculate the factorial."
   ]
  },
  {
   "cell_type": "markdown",
   "id": "68e2bf59-5af2-45fe-b588-b7409688b367",
   "metadata": {},
   "source": [
    "# 7:How can you iterate through the characters of a string using a for loop in Python?\n"
   ]
  },
  {
   "cell_type": "code",
   "execution_count": 7,
   "id": "df78c5de-dba6-443c-be8b-1b8d854a8a22",
   "metadata": {},
   "outputs": [
    {
     "name": "stdout",
     "output_type": "stream",
     "text": [
      "m\n",
      "o\n",
      "h\n",
      "a\n",
      "m\n",
      "m\n",
      "a\n",
      "d\n",
      ",\n",
      "s\n",
      "h\n",
      "a\n",
      "h\n",
      "a\n",
      "n\n",
      "s\n",
      "h\n",
      "a\n",
      "h\n"
     ]
    }
   ],
   "source": [
    "my_string=\"mohammad,shahanshah\"\n",
    "for char in my_string:\n",
    "    print(char)\n"
   ]
  },
  {
   "cell_type": "markdown",
   "id": "7d8e2187-7089-41ac-9800-1b407193b34c",
   "metadata": {},
   "source": [
    "In this example, the for loop iterates through each character in the my_string variable, and the variable char takes on each character in turn. The loop then prints each character. You can perform any desired operations within the loop based on the individual characters of the string."
   ]
  },
  {
   "cell_type": "markdown",
   "id": "c5072c65-f8b4-4bfa-926b-3baa64f9441d",
   "metadata": {},
   "source": [
    "# 8:Write a Python program to find the largest number in a list using a for loop.\n"
   ]
  },
  {
   "cell_type": "code",
   "execution_count": 8,
   "id": "e426a376-3ad4-44d3-b5e7-c37ea6087c4f",
   "metadata": {},
   "outputs": [
    {
     "name": "stdout",
     "output_type": "stream",
     "text": [
      "the largest number : 335\n"
     ]
    }
   ],
   "source": [
    "number=[10,5,8,20,15,335]\n",
    "largest_number=number[0]\n",
    "for num in number:\n",
    "     if num>largest_number:\n",
    "            largest_number=num\n",
    "print(\"the largest number :\",largest_number)"
   ]
  },
  {
   "cell_type": "markdown",
   "id": "3f5e8666-a72e-4523-9b4b-f26204b4fd52",
   "metadata": {},
   "source": [
    "Certainly! This Python program finds the largest number in a list (numbers) using a for loop. It initializes a variable largest_number with the first element of the list and then iterates through the list. Inside the loop, it compares each number with the current largest_number, updating it if a larger number is found. Finally, it prints the result, indicating the largest number in the list"
   ]
  },
  {
   "cell_type": "markdown",
   "id": "edcc08a9-9679-42f6-9619-7db245d38851",
   "metadata": {},
   "source": [
    "# 9:Create a Python program that prints the Fibonacci sequence up to a specified limit using a for loop."
   ]
  },
  {
   "cell_type": "code",
   "execution_count": 9,
   "id": "0ba24e8d-2e52-4765-991c-bf7eba8bb8f4",
   "metadata": {},
   "outputs": [
    {
     "name": "stdout",
     "output_type": "stream",
     "text": [
      "The Fibonacci sequence up to 50 is: [0, 1, 1, 2, 3, 5, 8, 13, 21, 34]\n"
     ]
    }
   ],
   "source": [
    "def fibonacci(limit):\n",
    "    fib_sequence = [0, 1]\n",
    "\n",
    "    for i in range(2, limit):\n",
    "        next_number = fib_sequence[-1] + fib_sequence[-2]\n",
    "        if next_number > limit:\n",
    "            break\n",
    "        fib_sequence.append(next_number)\n",
    "\n",
    "    return fib_sequence\n",
    "\n",
    "limit = 50\n",
    "result = fibonacci(limit)\n",
    "print(f\"The Fibonacci sequence up to {limit} is:\", result)\n",
    "\n"
   ]
  },
  {
   "cell_type": "markdown",
   "id": "1365d1d1-9f5d-4d15-aa14-25822379e14b",
   "metadata": {},
   "source": [
    "n this program, the fibonacci function generates the Fibonacci sequence up to the specified limit using a for loop. The sequence starts with [0, 1], and each subsequent number is the sum of the two preceding numbers. The loop continues until the next Fibonacci number exceeds the specified limit. The result is then printed. You can change the limit variable to any desired value."
   ]
  },
  {
   "cell_type": "markdown",
   "id": "2f03cc45-38d6-49ee-8367-735d8f0c42d1",
   "metadata": {},
   "source": [
    "# 10:Create a Python program that prints the Fibonacci sequence up to a specified limit using a for loop.\n"
   ]
  },
  {
   "cell_type": "code",
   "execution_count": 10,
   "id": "ea46c428-7ee1-48e0-9a6c-0c817e269251",
   "metadata": {},
   "outputs": [
    {
     "name": "stdout",
     "output_type": "stream",
     "text": [
      "The Fibonacci sequence up to 50 is: [0, 1, 1, 2, 3, 5, 8, 13, 21, 34]\n"
     ]
    }
   ],
   "source": [
    "def fibonacci(limit):\n",
    "    fib_sequence = [0, 1]\n",
    "\n",
    "    for i in range(2, limit):\n",
    "        next_number = fib_sequence[-1] + fib_sequence[-2]\n",
    "        if next_number > limit:\n",
    "            break\n",
    "        fib_sequence.append(next_number)\n",
    "\n",
    "    return fib_sequence\n",
    "\n",
    "# Specify the limit for the Fibonacci sequence\n",
    "limit = 50  # You can change this limit to any desired value\n",
    "\n",
    "# Call the function and print the Fibonacci sequence\n",
    "result = fibonacci(limit)\n",
    "print(f\"The Fibonacci sequence up to {limit} is:\", result)\n"
   ]
  },
  {
   "cell_type": "markdown",
   "id": "632f32db-1654-4301-a2bc-b3f247bf6858",
   "metadata": {},
   "source": [
    "In this program, the fibonacci function generates the Fibonacci sequence up to the specified limit using a for loop. The sequence starts with [0, 1], and each subsequent number is the sum of the two preceding numbers. The loop continues until the next Fibonacci number exceeds the specified limit. The result is then printed. You can change the limit variable to any desired value."
   ]
  },
  {
   "cell_type": "markdown",
   "id": "a681792c-2e98-40b4-aff5-b274486b7fcf",
   "metadata": {},
   "source": [
    "# 11: Write a Python program to count the number of vowels in a given string using a for loop.\n"
   ]
  },
  {
   "cell_type": "code",
   "execution_count": 11,
   "id": "59529f93-d848-4063-8e3b-182641ff243d",
   "metadata": {},
   "outputs": [
    {
     "name": "stdin",
     "output_type": "stream",
     "text": [
      "Enter a string:  \"shahsnash\" \n"
     ]
    },
    {
     "name": "stdout",
     "output_type": "stream",
     "text": [
      "The number of vowels in the given string is: 2\n"
     ]
    }
   ],
   "source": [
    "def count_vowels(input_string):\n",
    "    # Define a set of vowels\n",
    "    vowels = set(\"aeiouAEIOU\")\n",
    "\n",
    "    # Initialize a variable to store the count\n",
    "    vowel_count = 0\n",
    "\n",
    "    # Use a for loop to iterate through each character in the string\n",
    "    for char in input_string:\n",
    "        # Check if the character is a vowel\n",
    "        if char in vowels:\n",
    "            vowel_count += 1\n",
    "\n",
    "    return vowel_count\n",
    "\n",
    "# Get input string from the user\n",
    "user_input = input(\"Enter a string: \")\n",
    "\n",
    "# Call the function and print the result\n",
    "result = count_vowels(user_input)\n",
    "print(f\"The number of vowels in the given string is: {result}\")\n"
   ]
  },
  {
   "cell_type": "markdown",
   "id": "a1f3a847-551d-423e-b083-f4e98547e80c",
   "metadata": {},
   "source": [
    "This program defines a function count_vowels that takes a string as input and counts the number of vowels in it. The function uses a for loop to iterate through each character in the input string and checks if the character is a vowel. The count is then incremented accordingly. Finally, the program takes user input, calls the function, and prints the result.\n",
    "\n",
    "\n",
    "\n",
    "\n"
   ]
  },
  {
   "cell_type": "markdown",
   "id": "5dd89e93-dedb-4cef-80d8-7476a1df7bf2",
   "metadata": {},
   "source": [
    "# 12:Create a Python program that generates a multiplication table for a given number using a for loop."
   ]
  },
  {
   "cell_type": "code",
   "execution_count": 2,
   "id": "69abfcff-4ee2-40d4-b596-d78a7188e5e9",
   "metadata": {},
   "outputs": [
    {
     "name": "stdin",
     "output_type": "stream",
     "text": [
      "Enter a number for the multiplication table:  5\n",
      "Enter the limit for the table:  10\n"
     ]
    },
    {
     "name": "stdout",
     "output_type": "stream",
     "text": [
      "Multiplication table for 5 up to 10:\n",
      "5 x 1 = 5\n",
      "5 x 2 = 10\n",
      "5 x 3 = 15\n",
      "5 x 4 = 20\n",
      "5 x 5 = 25\n",
      "5 x 6 = 30\n",
      "5 x 7 = 35\n",
      "5 x 8 = 40\n",
      "5 x 9 = 45\n",
      "5 x 10 = 50\n"
     ]
    }
   ],
   "source": [
    "def multiplication_table(number, limit):\n",
    "    print(f\"Multiplication table for {number} up to {limit}:\")\n",
    "    for i in range(1, limit + 1):\n",
    "        result = number * i\n",
    "        print(f\"{number} x {i} = {result}\")\n",
    "\n",
    "# Get user input for the number and limit\n",
    "number = int(input(\"Enter a number for the multiplication table: \"))\n",
    "limit = int(input(\"Enter the limit for the table: \"))\n",
    "\n",
    "# Call the function to generate and print the multiplication table\n",
    "multiplication_table(number, limit)\n"
   ]
  },
  {
   "cell_type": "markdown",
   "id": "e43e708d-a3a6-4e8a-836f-15440e516328",
   "metadata": {},
   "source": [
    "This program defines a function multiplication_table that takes a number and a limit as input and generates the multiplication table for that number up to the specified limit using a for loop. The user is prompted to enter the number and limit, and then the function is called to print the multiplication table."
   ]
  },
  {
   "cell_type": "markdown",
   "id": "34575b2a-298f-4e84-a981-ed342a684de3",
   "metadata": {},
   "source": [
    "# 13:Write a Python program to reverse a list using a for loop.\n"
   ]
  },
  {
   "cell_type": "code",
   "execution_count": 3,
   "id": "d288045c-b672-4c36-9ecd-ef36734add52",
   "metadata": {},
   "outputs": [
    {
     "name": "stdout",
     "output_type": "stream",
     "text": [
      "Original List: [1, 2, 3, 4, 5]\n",
      "Reversed List: [5, 4, 3, 2, 1]\n"
     ]
    }
   ],
   "source": [
    "def reverse_list(input_list):\n",
    "    reversed_list = []\n",
    "\n",
    "    # Use a for loop to iterate through the input list in reverse order\n",
    "    for i in range(len(input_list) - 1, -1, -1):\n",
    "        reversed_list.append(input_list[i])\n",
    "\n",
    "    return reversed_list\n",
    "\n",
    "# Example list\n",
    "original_list = [1, 2, 3, 4, 5]\n",
    "\n",
    "# Call the function to reverse the list\n",
    "result = reverse_list(original_list)\n",
    "\n",
    "# Print the result\n",
    "print(f\"Original List: {original_list}\")\n",
    "print(f\"Reversed List: {result}\")\n"
   ]
  },
  {
   "cell_type": "markdown",
   "id": "abae32ae-ec5e-47b2-8d8c-acbf0a8b250f",
   "metadata": {},
   "source": [
    "In this program, the function reverse_list takes an input list and uses a for loop to iterate through the elements of the input list in reverse order. The reversed elements are then appended to a new list (reversed_list). The result is printed, showing both the original and reversed lists."
   ]
  },
  {
   "cell_type": "markdown",
   "id": "c612c8ce-09c0-4404-af89-756eeddca866",
   "metadata": {},
   "source": [
    "# 14:Write a Python program to find the common elements between two lists using a for loop.\n"
   ]
  },
  {
   "cell_type": "code",
   "execution_count": 4,
   "id": "074ebe72-0e15-4f03-a6ad-2491751f8d4e",
   "metadata": {},
   "outputs": [
    {
     "name": "stdout",
     "output_type": "stream",
     "text": [
      "List 1: [1, 2, 3, 4, 5]\n",
      "List 2: [3, 4, 5, 6, 7]\n",
      "Common Elements: [3, 4, 5]\n"
     ]
    }
   ],
   "source": [
    "def find_common_elements(list1, list2):\n",
    "    common_elements = []\n",
    "\n",
    "    # Use a for loop to iterate through elements of the first list\n",
    "    for item in list1:\n",
    "        # Check if the element is also present in the second list\n",
    "        if item in list2:\n",
    "            common_elements.append(item)\n",
    "\n",
    "    return common_elements\n",
    "\n",
    "# Example lists\n",
    "list1 = [1, 2, 3, 4, 5]\n",
    "list2 = [3, 4, 5, 6, 7]\n",
    "\n",
    "# Call the function to find common elements\n",
    "result = find_common_elements(list1, list2)\n",
    "\n",
    "# Print the result\n",
    "print(f\"List 1: {list1}\")\n",
    "print(f\"List 2: {list2}\")\n",
    "print(f\"Common Elements: {result}\")\n"
   ]
  },
  {
   "cell_type": "markdown",
   "id": "8bef2a45-a970-499b-af3c-790c4804aaf5",
   "metadata": {},
   "source": [
    "In this program, the function find_common_elements takes two lists (list1 and list2) and uses a for loop to iterate through the elements of the first list. For each element, it checks if the element is also present in the second list (if item in list2:), and if so, adds it to the common_elements list. The result is then printed."
   ]
  },
  {
   "cell_type": "markdown",
   "id": "28afcbab-70b1-4756-9faf-4e1dc4276fc8",
   "metadata": {},
   "source": [
    "# 15:Explain how to use a for loop to iterate through the keys and values of a dictionary in Python.\n"
   ]
  },
  {
   "cell_type": "code",
   "execution_count": 10,
   "id": "47cb8ba6-bcab-436d-94ae-9b91c806ebb8",
   "metadata": {},
   "outputs": [
    {
     "name": "stdout",
     "output_type": "stream",
     "text": [
      "Key: a, Value: 1\n",
      "Key: b, Value: 2\n",
      "Key: c, Value: 3\n",
      "Key: d, Value: 4\n"
     ]
    }
   ],
   "source": [
    "my_dict={\"a\":1,\"b\":2,\"c\":3,\"d\":4}\n",
    "for key, value in my_dict.items():\n",
    "     print(f\"Key: {key}, Value: {value}\")"
   ]
  },
  {
   "cell_type": "markdown",
   "id": "34bfbfd6-b2a2-4fc4-b977-ad83db70192d",
   "metadata": {},
   "source": [
    "This loop structure allows you to conveniently iterate through both the keys and values of the dictionary in a single loop. You can modify the loop body to suit your specific needs, such as performing calculations, filtering items, or creating new data structures based on the dictionary content.\n",
    "\n",
    "\n",
    "\n",
    "\n",
    "\n"
   ]
  },
  {
   "cell_type": "markdown",
   "id": "12d72900-7a28-4c22-8c8e-c8ff416f485a",
   "metadata": {},
   "source": [
    "# 16:Write a Python program to find the GCD (Greatest Common Divisor) of two numbers using a for loop."
   ]
  },
  {
   "cell_type": "code",
   "execution_count": 11,
   "id": "7b34fb24-729d-4dcb-83d2-7f4c441e9a5f",
   "metadata": {},
   "outputs": [
    {
     "name": "stdout",
     "output_type": "stream",
     "text": [
      "The GCD of 48 and 18 is: 6\n"
     ]
    }
   ],
   "source": [
    "def find_gcd(a, b):\n",
    "    # Ensure a is greater than or equal to b\n",
    "    if a < b:\n",
    "        a, b = b, a\n",
    "\n",
    "    # Use a for loop to find the GCD\n",
    "    for i in range(b, 0, -1):\n",
    "        if a % i == 0 and b % i == 0:\n",
    "            return i\n",
    "\n",
    "    # If no common divisor is found, return 1\n",
    "    return 1\n",
    "\n",
    "# Example numbers\n",
    "num1 = 48\n",
    "num2 = 18\n",
    "\n",
    "# Call the function to find the GCD\n",
    "result = find_gcd(num1, num2)\n",
    "\n",
    "# Print the result\n",
    "print(f\"The GCD of {num1} and {num2} is: {result}\")\n"
   ]
  },
  {
   "cell_type": "markdown",
   "id": "b3f18377-fff3-4ba7-b6fc-9d17159240ae",
   "metadata": {},
   "source": [
    "You can replace the values of num1 and num2 with your own values to find the GCD for different pairs of numbers.\n",
    "\n",
    "\n",
    "\n",
    "\n",
    "\n"
   ]
  },
  {
   "cell_type": "markdown",
   "id": "68b37ea3-4f7f-4ee3-8b1d-c45a0ca71546",
   "metadata": {},
   "source": [
    "# 17:Create a Python program that checks if a string is a palindrome using a for loop.\n"
   ]
  },
  {
   "cell_type": "code",
   "execution_count": 2,
   "id": "4f2fb575-5f38-4363-9fc4-bc6932ebbeb1",
   "metadata": {},
   "outputs": [
    {
     "name": "stdin",
     "output_type": "stream",
     "text": [
      "Enter a string to check for palindrome:  maam\n"
     ]
    },
    {
     "name": "stdout",
     "output_type": "stream",
     "text": [
      "maam is a palindrome.\n"
     ]
    }
   ],
   "source": [
    "def is_palindrome(input_string):\n",
    "    # Convert the string to lowercase and remove spaces\n",
    "    cleaned_string = input_string.lower().replace(\" \", \"\")\n",
    "\n",
    "    # Use a for loop to check if it is a palindrome\n",
    "    for i in range(len(cleaned_string) // 2):\n",
    "        if cleaned_string[i] != cleaned_string[-(i + 1)]:\n",
    "            return False\n",
    "\n",
    "    return True\n",
    "\n",
    "# Example string\n",
    "user_input = input(\"Enter a string to check for palindrome: \")\n",
    "\n",
    "# Call the function and print the result\n",
    "result = is_palindrome(user_input)\n",
    "if result:\n",
    "    print(f\"{user_input} is a palindrome.\")\n",
    "else:\n",
    "    print(f\"{user_input} is not a palindrome.\")\n"
   ]
  },
  {
   "cell_type": "markdown",
   "id": "e1810ba6-fba5-4f1c-997d-35a495fe55e1",
   "metadata": {},
   "source": [
    "You can test this program with different strings to check if they are palindromes. Keep in mind that spaces and letter case are ignored in determining if a string is a palindrome in this example.\n",
    "\n",
    "\n",
    "\n",
    "\n",
    "User\n"
   ]
  },
  {
   "cell_type": "markdown",
   "id": "f2362b1c-9c2a-4ec3-9c2d-248fa0c5b9bc",
   "metadata": {},
   "source": [
    "# 18:Write a Python program to remove duplicates from a list using a for loop.\n"
   ]
  },
  {
   "cell_type": "code",
   "execution_count": 3,
   "id": "ba197acc-45c7-498c-b3e0-9cf6f28212b4",
   "metadata": {},
   "outputs": [
    {
     "name": "stdout",
     "output_type": "stream",
     "text": [
      "Original List: [1, 2, 2, 3, 4, 4, 5]\n",
      "List with Duplicates Removed: [1, 2, 3, 4, 5]\n"
     ]
    }
   ],
   "source": [
    "def remove_duplicates(input_list):\n",
    "    unique_list = []\n",
    "    \n",
    "    for item in input_list:\n",
    "        if item not in unique_list:\n",
    "            unique_list.append(item)\n",
    "    \n",
    "    return unique_list\n",
    "\n",
    "# Example usage:\n",
    "original_list = [1, 2, 2, 3, 4, 4, 5]\n",
    "result_list = remove_duplicates(original_list)\n",
    "\n",
    "print(\"Original List:\", original_list)\n",
    "print(\"List with Duplicates Removed:\", result_list)\n"
   ]
  },
  {
   "cell_type": "markdown",
   "id": "dd0449d8-b665-42c5-9329-8a7107519bea",
   "metadata": {},
   "source": [
    "n this example, the remove_duplicates function takes a list as input and uses a for loop to iterate through each element. If the element is not already in the unique_list, it is appended. This way, duplicates are excluded, and the unique_list is returned.\n",
    "\n"
   ]
  },
  {
   "cell_type": "markdown",
   "id": "e25c1643-4561-4f50-b18e-b233c1c5f784",
   "metadata": {},
   "source": [
    "# 19:Create a Python program that counts the number of words in a sentence using a for loop.\n"
   ]
  },
  {
   "cell_type": "code",
   "execution_count": 4,
   "id": "4906ab9d-50bf-431f-a02b-5485cbf7cd68",
   "metadata": {},
   "outputs": [
    {
     "name": "stdout",
     "output_type": "stream",
     "text": [
      "Input Sentence: This is a sample sentence with several words.\n",
      "Number of Words: 8\n"
     ]
    }
   ],
   "source": [
    "def count_words(sentence):\n",
    "    word_count = 0\n",
    "    \n",
    "    # Using a for loop to iterate through each character in the sentence\n",
    "    for char in sentence:\n",
    "        # If the character is a space, it indicates the end of a word\n",
    "        if char == ' ':\n",
    "            word_count += 1\n",
    "    \n",
    "    # Adding 1 to account for the last word in the sentence\n",
    "    word_count += 1\n",
    "    \n",
    "    return word_count\n",
    "\n",
    "# Example usage:\n",
    "input_sentence = \"This is a sample sentence with several words.\"\n",
    "result = count_words(input_sentence)\n",
    "\n",
    "print(\"Input Sentence:\", input_sentence)\n",
    "print(\"Number of Words:\", result)\n"
   ]
  },
  {
   "cell_type": "markdown",
   "id": "2436e9dc-c11e-455f-ba3e-e6820419e488",
   "metadata": {},
   "source": [
    "In this program, the count_words function takes a sentence as input and uses a for loop to iterate through each character. It counts the number of spaces encountered, assuming that each space indicates the end of a word. Finally, 1 is added to account for the last word in the sentence.\n",
    "\n",
    "\n",
    "\n",
    "\n",
    "\n",
    "\n",
    "                                                                                                                                                                                                                                                           "
   ]
  },
  {
   "cell_type": "markdown",
   "id": "1847e57c-e862-44d3-a472-fdd2f64178a4",
   "metadata": {},
   "source": [
    "# 20:Write a Python program to find the sum of all odd numbers from 1 to 50 using a for loop.\n"
   ]
  },
  {
   "cell_type": "code",
   "execution_count": 5,
   "id": "b7140daa-3154-43eb-961f-faded432b091",
   "metadata": {},
   "outputs": [
    {
     "name": "stdout",
     "output_type": "stream",
     "text": [
      "Sum of Odd Numbers from 1 to 50: 625\n"
     ]
    }
   ],
   "source": [
    "# Initialize the sum to 0\n",
    "sum_of_odds = 0\n",
    "\n",
    "# Using a for loop to iterate through numbers from 1 to 50\n",
    "for number in range(1, 51):\n",
    "    # Check if the number is odd\n",
    "    if number % 2 != 0:\n",
    "        # Add the odd number to the sum\n",
    "        sum_of_odds += number\n",
    "\n",
    "# Print the result\n",
    "print(\"Sum of Odd Numbers from 1 to 50:\", sum_of_odds)\n"
   ]
  },
  {
   "cell_type": "markdown",
   "id": "3c7da5e5-3a16-438f-a2a6-eb0f1c201d8a",
   "metadata": {},
   "source": [
    "In this program, the range(1, 51) generates a sequence of numbers from 1 to 50 (inclusive). The for loop iterates through each number, and the if statement checks if the number is odd (number % 2 != 0). If it's odd, the number is added to the sum_of_odds. Finally, the result is printed."
   ]
  },
  {
   "cell_type": "markdown",
   "id": "cc5db861-909e-425d-978f-740e9c827f61",
   "metadata": {},
   "source": [
    "# 21: Write a Python program that checks if a given year is a leap year using a for loop."
   ]
  },
  {
   "cell_type": "code",
   "execution_count": 1,
   "id": "8155d0c8-d9a8-4191-9d4e-3297e2220645",
   "metadata": {},
   "outputs": [
    {
     "name": "stdin",
     "output_type": "stream",
     "text": [
      "Enter a year:  2004\n"
     ]
    },
    {
     "name": "stdout",
     "output_type": "stream",
     "text": [
      "2004 is a leap year.\n"
     ]
    }
   ],
   "source": [
    "def is_leap_year(year):\n",
    "    # Check if the year is divisible by 4\n",
    "    if year % 4 == 0:\n",
    "        # If the year is divisible by 100, it must also be divisible by 400\n",
    "        if year % 100 == 0:\n",
    "            if year % 400 == 0:\n",
    "                return True\n",
    "            else:\n",
    "                return False\n",
    "        else:\n",
    "            return True\n",
    "    else:\n",
    "        return False\n",
    "\n",
    "def main():\n",
    "    try:\n",
    "        # Input year from the user\n",
    "        year = int(input(\"Enter a year: \"))\n",
    "\n",
    "        # Check if it's a leap year\n",
    "        if is_leap_year(year):\n",
    "            print(f\"{year} is a leap year.\")\n",
    "        else:\n",
    "            print(f\"{year} is not a leap year.\")\n",
    "\n",
    "    except ValueError:\n",
    "        print(\"Invalid input. Please enter a valid year.\")\n",
    "\n",
    "if __name__ == \"__main__\":\n",
    "    main()\n"
   ]
  },
  {
   "cell_type": "markdown",
   "id": "1b7ecbef-f7a5-4365-baaa-ce67a35642bb",
   "metadata": {},
   "source": [
    "This program defines a function is_leap_year that checks if a given year is a leap year. The main function takes user input for a year, calls the is_leap_year function, and prints the result. The program also handles invalid input by catching a ValueError if the user enters a non-integer value."
   ]
  },
  {
   "cell_type": "markdown",
   "id": "b97ba4a2-ca82-4d33-87ba-609c4190a045",
   "metadata": {},
   "source": [
    "# 22:Create a Python program that calculates the square root of a number using a for loop.\n"
   ]
  },
  {
   "cell_type": "code",
   "execution_count": 3,
   "id": "6c44c92e-f3e6-4e57-9708-f33ac92c8d8c",
   "metadata": {},
   "outputs": [
    {
     "name": "stdin",
     "output_type": "stream",
     "text": [
      "Enter a number:  34\n"
     ]
    },
    {
     "name": "stdout",
     "output_type": "stream",
     "text": [
      "The square root of 34.0 is approximately 5.830952\n"
     ]
    }
   ],
   "source": [
    "def calculate_square_root(number, epsilon=1e-10, max_iterations=100):\n",
    "    # Ensure the number is non-negative\n",
    "    if number < 0:\n",
    "        raise ValueError(\"Cannot calculate square root of a negative number\")\n",
    "\n",
    "    # Initial guess for the square root\n",
    "    guess = number / 2.0\n",
    "\n",
    "    # Iterate using the Babylonian method\n",
    "    for _ in range(max_iterations):\n",
    "        new_guess = 0.5 * (guess + number / guess)\n",
    "\n",
    "        # Check for convergence\n",
    "        if abs(new_guess - guess) < epsilon:\n",
    "            return new_guess\n",
    "\n",
    "        guess = new_guess\n",
    "\n",
    "    # If max_iterations is reached without convergence, return the last guess\n",
    "    return guess\n",
    "\n",
    "def main():\n",
    "    try:\n",
    "        # Input number from the user\n",
    "        number = float(input(\"Enter a number: \"))\n",
    "\n",
    "        # Calculate and print the square root\n",
    "        result = calculate_square_root(number)\n",
    "        print(f\"The square root of {number} is approximately {result:.6f}\")\n",
    "\n",
    "    except ValueError:\n",
    "        print(\"Invalid input. Please enter a valid number.\")\n",
    "\n",
    "if __name__ == \"__main__\":\n",
    "    main()\n"
   ]
  },
  {
   "cell_type": "markdown",
   "id": "64a52ccb-470c-4e77-aaa9-7344fe43b00a",
   "metadata": {},
   "source": [
    "This program defines a function calculate_square_root that uses the Babylonian method to iteratively calculate the square root of a given number. The main function takes user input for a number, calls the calculate_square_root function, and prints the result. The program also handles invalid input by catching a ValueError if the user enters a non-numeric value."
   ]
  },
  {
   "cell_type": "markdown",
   "id": "e32a4f9f-6d42-40a6-ba8f-26c1bb5b16ac",
   "metadata": {},
   "source": [
    "# 23:Write a Python program to find the LCM (Least Common Multiple) of two numbers using a for loop"
   ]
  },
  {
   "cell_type": "code",
   "execution_count": 1,
   "id": "8700310b-eb46-4fe0-8308-9d5eef7f3754",
   "metadata": {},
   "outputs": [
    {
     "name": "stdin",
     "output_type": "stream",
     "text": [
      "Enter the first number:  5\n",
      "Enter the second number:  8\n"
     ]
    },
    {
     "name": "stdout",
     "output_type": "stream",
     "text": [
      "The LCM of 5 and 8 is 40\n"
     ]
    }
   ],
   "source": [
    "def gcd(a, b):\n",
    "    while b:\n",
    "        a, b = b, a % b\n",
    "    return a\n",
    "\n",
    "def lcm(a, b):\n",
    "    return abs(a * b) // gcd(a, b) if a and b else 0\n",
    "\n",
    "def main():\n",
    "    try:\n",
    "        # Input two numbers from the user\n",
    "        num1 = int(input(\"Enter the first number: \"))\n",
    "        num2 = int(input(\"Enter the second number: \"))\n",
    "\n",
    "        # Calculate and print the LCM\n",
    "        result = lcm(num1, num2)\n",
    "        print(f\"The LCM of {num1} and {num2} is {result}\")\n",
    "\n",
    "    except ValueError:\n",
    "        print(\"Invalid input. Please enter valid numbers.\")\n",
    "\n",
    "if __name__ == \"__main__\":\n",
    "    main()\n"
   ]
  },
  {
   "cell_type": "raw",
   "id": "dc348eb7-113a-461e-aeb4-64fd0fef093e",
   "metadata": {},
   "source": [
    "he gcd function calculates the Greatest Common Divisor (GCD) of two numbers using the Euclidean algorithm.\n",
    "The lcm function calculates the LCM of two numbers using their absolute values and the GCD.\n",
    "The main function takes user input for two numbers, calls the lcm function, and prints the result. The program also handles invalid input by catching a ValueError if the user enters a non-numeric value."
   ]
  },
  {
   "cell_type": "markdown",
   "id": "c89b1cbe-8be7-410a-b76f-b4b5e746ce51",
   "metadata": {},
   "source": [
    "# if else"
   ]
  },
  {
   "cell_type": "markdown",
   "id": "54013786-a189-4ad3-a3d1-a5f216face6c",
   "metadata": {},
   "source": [
    "# 1:Write a Python program to check if a number is positive, negative, or zero using an if-else statement."
   ]
  },
  {
   "cell_type": "code",
   "execution_count": 12,
   "id": "3a9b48d4-132e-444b-b3f5-257e200fa55f",
   "metadata": {},
   "outputs": [
    {
     "name": "stdin",
     "output_type": "stream",
     "text": [
      "Enter a number:  4\n"
     ]
    },
    {
     "name": "stdout",
     "output_type": "stream",
     "text": [
      "The number 4.0 is Positive.\n"
     ]
    }
   ],
   "source": [
    "def check_number(num):\n",
    "    if num > 0:\n",
    "        return \"Positive\"\n",
    "    elif num < 0:\n",
    "        return \"Negative\"\n",
    "    else:\n",
    "        return \"Zero\"\n",
    "\n",
    "def main():\n",
    "    try:\n",
    "        # Input a number from the user\n",
    "        number = float(input(\"Enter a number: \"))\n",
    "\n",
    "        # Check and print the result\n",
    "        result = check_number(number)\n",
    "        print(f\"The number {number} is {result}.\")\n",
    "\n",
    "    except ValueError:\n",
    "        print(\"Invalid input. Please enter a valid number.\")\n",
    "\n",
    "if __name__ == \"__main__\":\n",
    "    main()\n"
   ]
  },
  {
   "cell_type": "markdown",
   "id": "ac18f019-a4c4-43e5-9805-88fea338c616",
   "metadata": {},
   "source": [
    "# 2:Create a Python program that checks if a given number is even or odd using an if-else statement.\n"
   ]
  },
  {
   "cell_type": "code",
   "execution_count": 15,
   "id": "2f64d0fc-6bad-409f-8153-7db3cf4dd9f4",
   "metadata": {},
   "outputs": [
    {
     "name": "stdin",
     "output_type": "stream",
     "text": [
      "Enter a number:  5\n"
     ]
    },
    {
     "name": "stdout",
     "output_type": "stream",
     "text": [
      "The number 5.0 is Positive.\n"
     ]
    }
   ],
   "source": [
    "def check_even_odd(num):\n",
    "    if num %2==0:\n",
    "        return \"even\"\n",
    "    else:\n",
    "        return \"odd\"\n",
    "def mai():\n",
    "    try :\n",
    "        number=int(input(\"enter a number:\"))\n",
    "        result=check_even_odd(number)\n",
    "        print(f\"the number {number}is {result}.\")\n",
    "    except ValueError:\n",
    "        print(\"invilid input plz input valid input integer.\")\n",
    "\n",
    "#if _ _name_ _==\"_ _main_ _\":\n",
    "main()"
   ]
  },
  {
   "cell_type": "markdown",
   "id": "5f02d468-b6a7-42bf-a517-fa326e91cd4a",
   "metadata": {},
   "source": [
    "The check_even_odd function takes a number as input and uses an if-else statement to check if it's even or odd.\n",
    "The main function takes user input for a number, calls the check_even_odd function, and prints the result. The program also handles invalid input by catching a ValueError if the user enters a non-integer value.\n"
   ]
  },
  {
   "cell_type": "markdown",
   "id": "aa6e0803-1358-4255-9fb4-1edaadace4a2",
   "metadata": {},
   "source": [
    "# 3: How can you use nested if-else statements in Python, and provide an example?\n"
   ]
  },
  {
   "cell_type": "code",
   "execution_count": 27,
   "id": "4c5d5c59-d7f6-441d-b846-9d9f7d483591",
   "metadata": {},
   "outputs": [
    {
     "name": "stdin",
     "output_type": "stream",
     "text": [
      "Enter a number:  34\n"
     ]
    },
    {
     "name": "stdout",
     "output_type": "stream",
     "text": [
      "Positive Even\n"
     ]
    },
    {
     "name": "stdin",
     "output_type": "stream",
     "text": [
      "Enter a number:  54\n"
     ]
    },
    {
     "name": "stdout",
     "output_type": "stream",
     "text": [
      "Positive Even\n"
     ]
    }
   ],
   "source": [
    "def classify_number(num):\n",
    "    if num > 0:\n",
    "        print(\"Positive\", \"Even\" if num % 2 == 0 else \"Odd\")\n",
    "    elif num < 0:\n",
    "        print(\"Negative number\")\n",
    "    else:\n",
    "        print(\"Zero\")\n",
    "\n",
    "def main():\n",
    "    try:\n",
    "        number = float(input(\"Enter a number: \"))\n",
    "        classify_number(number)\n",
    "\n",
    "    except ValueError:\n",
    "        print(\"Invalid input. Please enter a valid number.\")\n",
    "\n",
    "if __name__ == \"__main__\":\n",
    "    main()\n",
    "\n",
    "main()"
   ]
  },
  {
   "cell_type": "markdown",
   "id": "ac3a8d49-7e39-4216-8def-fd44e75e35fe",
   "metadata": {},
   "source": [
    "In this shorter version, the nested if-else statement is used within the print statement to determine whether the number is even or odd. It condenses the code while maintaining the same functionality."
   ]
  },
  {
   "cell_type": "markdown",
   "id": "42122e5c-fac8-4aeb-83e0-2ad5f71679d5",
   "metadata": {},
   "source": [
    "# 4:Write a Python program to determine the largest of three numbers using if-else.\n"
   ]
  },
  {
   "cell_type": "code",
   "execution_count": 29,
   "id": "95aa6a94-3d7d-45fa-bdd4-4efd4a82ed2e",
   "metadata": {},
   "outputs": [
    {
     "name": "stdin",
     "output_type": "stream",
     "text": [
      "Enter the first number:  45\n",
      "Enter the second number:  43\n",
      "Enter the third number:  34543\n"
     ]
    },
    {
     "name": "stdout",
     "output_type": "stream",
     "text": [
      "The largest number is: 34543.0\n"
     ]
    }
   ],
   "source": [
    "def find_largest_number(num1, num2, num3):\n",
    "    if num1 >= num2 and num1 >= num3:\n",
    "        return num1\n",
    "    elif num2 >= num1 and num2 >= num3:\n",
    "        return num2\n",
    "    else:\n",
    "        return num3\n",
    "\n",
    "def main():\n",
    "    try:\n",
    "        # Input three numbers from the user\n",
    "        num1 = float(input(\"Enter the first number: \"))\n",
    "        num2 = float(input(\"Enter the second number: \"))\n",
    "        num3 = float(input(\"Enter the third number: \"))\n",
    "\n",
    "        # Find and print the largest number\n",
    "        result = find_largest_number(num1, num2, num3)\n",
    "        print(f\"The largest number is: {result}\")\n",
    "\n",
    "    except ValueError:\n",
    "        print(\"Invalid input. Please enter valid numbers.\")\n",
    "\n",
    "if __name__ == \"__main__\":\n",
    "    main()\n"
   ]
  },
  {
   "cell_type": "markdown",
   "id": "98df321a-7d11-4aad-b8c1-70e5ca16251e",
   "metadata": {},
   "source": [
    "The find_largest_number function takes three numbers as input and uses if-else statements to determine the largest among them.\n",
    "The main function takes user input for three numbers, calls the find_largest_number function, and prints the result. The program also handles invalid input by catching a ValueError if the user enters a non-numeric value."
   ]
  },
  {
   "cell_type": "markdown",
   "id": "de34f38b-55fa-4292-8f4e-ade0d7426881",
   "metadata": {},
   "source": [
    "# 5:Write a Python program that calculates the absolute value of a number using if-else.\n"
   ]
  },
  {
   "cell_type": "code",
   "execution_count": 32,
   "id": "0662b13e-6366-4237-878a-7e2c2246f53b",
   "metadata": {},
   "outputs": [
    {
     "name": "stdin",
     "output_type": "stream",
     "text": [
      "Enter a number:  44\n"
     ]
    },
    {
     "name": "stdout",
     "output_type": "stream",
     "text": [
      "The absolute value of 44.0 is: 44.0\n"
     ]
    }
   ],
   "source": [
    " def absolute_value(num):\n",
    "    if num >= 0:\n",
    "        return num\n",
    "    else:\n",
    "        return -num\n",
    "\n",
    "def main():\n",
    "    try:\n",
    "        # Input a number from the user\n",
    "        number = float(input(\"Enter a number: \"))\n",
    "\n",
    "        # Calculate and print the absolute value\n",
    "        result = absolute_value(number)\n",
    "        print(f\"The absolute value of {number} is: {result}\")\n",
    "\n",
    "    except ValueError:\n",
    "        print(\"Invalid input. Please enter a valid number.\")\n",
    "\n",
    "if __name__ == \"__main__\":\n",
    "    main()\n"
   ]
  },
  {
   "cell_type": "raw",
   "id": "316d31ea-7602-42bd-92ab-64ce4fa3484b",
   "metadata": {},
   "source": [
    "The absolute_value function takes a number as input and uses if-else statements to calculate its absolute value.\n",
    "The main function takes user input for a number, calls the absolute_value function, and prints the result. The program also handles invalid input by catching a ValueError if the user enters a non-numeric value."
   ]
  },
  {
   "cell_type": "markdown",
   "id": "e1f1fe6f-9ee2-4fbc-8d9e-021ede82a36b",
   "metadata": {},
   "source": [
    "# 6:Create a Python program that checks if a given character is a vowel or consonant using if-else.\n"
   ]
  },
  {
   "cell_type": "code",
   "execution_count": 34,
   "id": "2cb6ede5-86fe-4530-82eb-05e555d68ee6",
   "metadata": {},
   "outputs": [
    {
     "name": "stdin",
     "output_type": "stream",
     "text": [
      "Enter a character:  shahanshash\n"
     ]
    },
    {
     "name": "stdout",
     "output_type": "stream",
     "text": [
      "Invalid input. Please enter a single alphabetical character.\n"
     ]
    }
   ],
   "source": [
    "def check_vowel_consonant(char):\n",
    "    if char.lower() in ('a', 'e', 'i', 'o', 'u'):\n",
    "        return \"Vowel\"\n",
    "    else:\n",
    "        return \"Consonant\"\n",
    "\n",
    "def main():\n",
    "    try:\n",
    "        # Input a character from the user\n",
    "        character = input(\"Enter a character: \")\n",
    "\n",
    "        # Check and print the result\n",
    "        if len(character) == 1 and character.isalpha():\n",
    "            result = check_vowel_consonant(character)\n",
    "            print(f\"The character '{character}' is a {result}.\")\n",
    "        else:\n",
    "            print(\"Invalid input. Please enter a single alphabetical character.\")\n",
    "\n",
    "    except ValueError:\n",
    "        print(\"Invalid input. Please enter a valid character.\")\n",
    "\n",
    "if __name__ == \"__main__\":\n",
    "    main()\n"
   ]
  },
  {
   "cell_type": "markdown",
   "id": "b76aa4d4-938d-48a4-8277-e99bbab98b82",
   "metadata": {},
   "source": [
    "The check_vowel_consonant function takes a character as input and uses if-else statements to check if it's a vowel or consonant.\n",
    "The main function takes user input for a character, calls the check_vowel_consonant function, and prints the result. The program also handles invalid input by checking the length and ensuring it is an alphabetical character."
   ]
  },
  {
   "cell_type": "markdown",
   "id": "7d62344c-c42e-417d-9265-8898255be0aa",
   "metadata": {},
   "source": [
    "# 6:Write a Python program to determine if a user is eligible to vote based on their age using if-else."
   ]
  },
  {
   "cell_type": "code",
   "execution_count": 35,
   "id": "380d64af-570e-441f-83ac-922ddf858f42",
   "metadata": {},
   "outputs": [
    {
     "name": "stdin",
     "output_type": "stream",
     "text": [
      "Enter your age:  34\n"
     ]
    },
    {
     "name": "stdout",
     "output_type": "stream",
     "text": [
      "You are eligible to vote!\n"
     ]
    }
   ],
   "source": [
    "def check_voting_eligibility(age):\n",
    "    if age >= 18:\n",
    "        return \"You are eligible to vote!\"\n",
    "    else:\n",
    "        return \"Sorry, you are not eligible to vote yet.\"\n",
    "\n",
    "def main():\n",
    "    try:\n",
    "        # Input the user's age\n",
    "        age = int(input(\"Enter your age: \"))\n",
    "\n",
    "        # Check and print the result\n",
    "        result = check_voting_eligibility(age)\n",
    "        print(result)\n",
    "\n",
    "    except ValueError:\n",
    "        print(\"Invalid input. Please enter a valid age as a number.\")\n",
    "\n",
    "if __name__ == \"__main__\":\n",
    "    main()\n"
   ]
  },
  {
   "cell_type": "raw",
   "id": "89705e53-7399-4ca3-9444-c6915506e17d",
   "metadata": {},
   "source": [
    "The check_voting_eligibility function takes the user's age as input and uses if-else statements to check if they are eligible to vote (age 18 or older).\n",
    "The main function takes user input for their age, calls the check_voting_eligibility function, and prints the result. The program also handles invalid input by catching a ValueError if the user enters a non-numeric value."
   ]
  },
  {
   "cell_type": "markdown",
   "id": "c6ea003d-2de1-4d62-8af6-b45570e5f150",
   "metadata": {},
   "source": [
    "# 8:Create a Python program that calculates the discount amount based on the purchase amount using if-else."
   ]
  },
  {
   "cell_type": "code",
   "execution_count": 36,
   "id": "ae978892-c319-4d14-8735-fba16e0c1509",
   "metadata": {},
   "outputs": [
    {
     "name": "stdin",
     "output_type": "stream",
     "text": [
      "Enter the purchase amount: $ 34543\n"
     ]
    },
    {
     "name": "stdout",
     "output_type": "stream",
     "text": [
      "The discount amount is: $3454.30\n"
     ]
    }
   ],
   "source": [
    "def calculate_discount(purchase_amount):\n",
    "    if purchase_amount >= 1000:\n",
    "        discount_percentage = 10\n",
    "    elif purchase_amount >= 500:\n",
    "        discount_percentage = 5\n",
    "    else:\n",
    "        discount_percentage = 0\n",
    "\n",
    "    discount_amount = (discount_percentage / 100) * purchase_amount\n",
    "    return discount_amount\n",
    "\n",
    "def main():\n",
    "    try:\n",
    "        # Input the purchase amount from the user\n",
    "        purchase_amount = float(input(\"Enter the purchase amount: $\"))\n",
    "\n",
    "        # Calculate and print the discount amount\n",
    "        discount = calculate_discount(purchase_amount)\n",
    "        print(f\"The discount amount is: ${discount:.2f}\")\n",
    "\n",
    "    except ValueError:\n",
    "        print(\"Invalid input. Please enter a valid purchase amount.\")\n",
    "\n",
    "if __name__ == \"__main__\":\n",
    "    main()\n"
   ]
  },
  {
   "cell_type": "markdown",
   "id": "8b842618-3522-4feb-be73-fbd9ce3bd30c",
   "metadata": {},
   "source": [
    "The calculate_discount function takes the purchase amount as input and uses if-else statements to determine the discount percentage based on the purchase amount.\n",
    "The main function takes user input for the purchase amount, calls the calculate_discount function, and prints the discount amount. The program also handles invalid input by catching a ValueError if the user enters a non-numeric value."
   ]
  },
  {
   "cell_type": "markdown",
   "id": "ea35f23e-351a-44f8-8bbc-e9398aaa2944",
   "metadata": {},
   "source": [
    "# 9:Write a Python program to check if a number is within a specified range using if-else.\n"
   ]
  },
  {
   "cell_type": "code",
   "execution_count": 37,
   "id": "35694cce-2014-4b76-b4ac-a2ad407ad7ec",
   "metadata": {},
   "outputs": [
    {
     "name": "stdin",
     "output_type": "stream",
     "text": [
      "Enter a number:  34\n",
      "Enter the lower limit of the range:  343\n",
      "Enter the upper limit of the range:  24\n"
     ]
    },
    {
     "name": "stdout",
     "output_type": "stream",
     "text": [
      "The number 34.0 is outside the specified range [343.0, 24.0].\n"
     ]
    }
   ],
   "source": [
    "def check_in_range(number, lower_limit, upper_limit):\n",
    "    if lower_limit <= number <= upper_limit:\n",
    "        return f\"The number {number} is within the specified range [{lower_limit}, {upper_limit}].\"\n",
    "    else:\n",
    "        return f\"The number {number} is outside the specified range [{lower_limit}, {upper_limit}].\"\n",
    "\n",
    "def main():\n",
    "    try:\n",
    "        # Input the number and range from the user\n",
    "        number = float(input(\"Enter a number: \"))\n",
    "        lower_limit = float(input(\"Enter the lower limit of the range: \"))\n",
    "        upper_limit = float(input(\"Enter the upper limit of the range: \"))\n",
    "\n",
    "        # Check and print the result\n",
    "        result = check_in_range(number, lower_limit, upper_limit)\n",
    "        print(result)\n",
    "\n",
    "    except ValueError:\n",
    "        print(\"Invalid input. Please enter valid numeric values.\")\n",
    "\n",
    "if __name__ == \"__main__\":\n",
    "    main()\n"
   ]
  },
  {
   "cell_type": "markdown",
   "id": "c9808289-70d1-4bb8-a0b9-16623a6e1e64",
   "metadata": {},
   "source": [
    "The check_in_range function takes a number, lower limit, and upper limit as input and uses if-else statements to check if the number is within the specified range.\n",
    "The main function takes user input for the number and range, calls the check_in_range function, and prints the result. The program also handles invalid input by catching a ValueError if the user enters a non-numeric value.\n"
   ]
  },
  {
   "cell_type": "markdown",
   "id": "dfc00df9-8b24-4dd6-915b-97eb0d564ad4",
   "metadata": {},
   "source": [
    "# 10:Create a Python program that determines the grade of a student based on their score using if-else."
   ]
  },
  {
   "cell_type": "code",
   "execution_count": 39,
   "id": "5141f047-db87-4462-a437-3ee2120bc522",
   "metadata": {},
   "outputs": [
    {
     "name": "stdin",
     "output_type": "stream",
     "text": [
      "Enter the student's score:  99\n"
     ]
    },
    {
     "name": "stdout",
     "output_type": "stream",
     "text": [
      "The student's grade is: A\n"
     ]
    }
   ],
   "source": [
    "def calculate_grade(score):\n",
    "    if 90 <= score <= 100:\n",
    "        return \"A\"\n",
    "    elif 80 <= score < 90:\n",
    "        return \"B\"\n",
    "    elif 70 <= score < 80:\n",
    "        return \"C\"\n",
    "    elif 60 <= score < 70:\n",
    "        return \"D\"\n",
    "    elif 0 <= score < 60:\n",
    "        return \"F\"\n",
    "    else:\n",
    "        return \"Invalid score. Score should be between 0 and 100.\"\n",
    "\n",
    "def main():\n",
    "    try:\n",
    "        # Input the student's score from the user\n",
    "        score = float(input(\"Enter the student's score: \"))\n",
    "\n",
    "        # Determine and print the grade\n",
    "        result = calculate_grade(score)\n",
    "        print(f\"The student's grade is: {result}\")\n",
    "\n",
    "    except ValueError:\n",
    "        print(\"Invalid input. Please enter a valid numeric score.\")\n",
    "\n",
    "if __name__ == \"__main__\":\n",
    "    main()\n"
   ]
  },
  {
   "cell_type": "raw",
   "id": "f62d0a3d-aec2-4d95-9cf4-ff04717b3e05",
   "metadata": {},
   "source": [
    "The calculate_grade function takes the student's score as input and uses if-else statements to determine their grade based on common grading criteria.\n",
    "The main function takes user input for the student's score, calls the calculate_grade function, and prints the result. The program also handles invalid input by catching a ValueError if the user enters a non-numeric value."
   ]
  },
  {
   "cell_type": "markdown",
   "id": "9bdf219c-a058-4361-839e-139828489cdb",
   "metadata": {},
   "source": [
    "# 11:Write a Python program to check if a string is empty or not using if-else.\n"
   ]
  },
  {
   "cell_type": "code",
   "execution_count": 40,
   "id": "41d69438-bef4-41e7-9d79-08c34f556539",
   "metadata": {},
   "outputs": [
    {
     "name": "stdin",
     "output_type": "stream",
     "text": [
      "Enter a string:  \"shahsnash\"\n"
     ]
    },
    {
     "name": "stdout",
     "output_type": "stream",
     "text": [
      "The string is not empty.\n"
     ]
    }
   ],
   "source": [
    "def check_empty_string(input_string):\n",
    "    if not input_string:\n",
    "        return \"The string is empty.\"\n",
    "    else:\n",
    "        return \"The string is not empty.\"\n",
    "\n",
    "def main():\n",
    "    # Input a string from the user\n",
    "    user_input = input(\"Enter a string: \")\n",
    "\n",
    "    # Check and print the result\n",
    "    result = check_empty_string(user_input)\n",
    "    print(result)\n",
    "\n",
    "if __name__ == \"__main__\":\n",
    "    main()\n"
   ]
  },
  {
   "cell_type": "markdown",
   "id": "612b5f1c-6d9b-463d-9dda-6c49d3195745",
   "metadata": {},
   "source": [
    "The check_empty_string function takes a string as input and uses an if-else statement to check if it's empty or not.\n",
    "The main function takes user input for a string, calls the check_empty_string function, and prints the result. The program does not handle invalid input in this case since strings can be any valid sequence of characters."
   ]
  },
  {
   "cell_type": "markdown",
   "id": "535ffe24-c7ce-4b03-aea0-d05f00f57845",
   "metadata": {},
   "source": [
    "# 12:Create a Python program that identifies the type of a triangle (e.g., equilateral, isosceles, or scalene) based on input values using if-else.\n"
   ]
  },
  {
   "cell_type": "code",
   "execution_count": 41,
   "id": "ebcb5d23-bffe-42ea-9d94-074b703f5010",
   "metadata": {},
   "outputs": [
    {
     "name": "stdin",
     "output_type": "stream",
     "text": [
      "Enter the length of side 1:  34\n",
      "Enter the length of side 2:  332\n",
      "Enter the length of side 3:  5\n"
     ]
    },
    {
     "name": "stdout",
     "output_type": "stream",
     "text": [
      "The triangle is a Scalene Triangle.\n"
     ]
    }
   ],
   "source": [
    "def identify_triangle_type(side1, side2, side3):\n",
    "    if side1 == side2 == side3:\n",
    "        return \"Equilateral Triangle\"\n",
    "    elif side1 == side2 or side1 == side3 or side2 == side3:\n",
    "        return \"Isosceles Triangle\"\n",
    "    else:\n",
    "        return \"Scalene Triangle\"\n",
    "\n",
    "def main():\n",
    "    try:\n",
    "        # Input the side lengths from the user\n",
    "        side1 = float(input(\"Enter the length of side 1: \"))\n",
    "        side2 = float(input(\"Enter the length of side 2: \"))\n",
    "        side3 = float(input(\"Enter the length of side 3: \"))\n",
    "\n",
    "        # Check and print the result\n",
    "        result = identify_triangle_type(side1, side2, side3)\n",
    "        print(f\"The triangle is a {result}.\")\n",
    "\n",
    "    except ValueError:\n",
    "        print(\"Invalid input. Please enter valid numeric values for the side lengths.\")\n",
    "\n",
    "if __name__ == \"__main__\":\n",
    "    main()\n"
   ]
  },
  {
   "cell_type": "raw",
   "id": "6a2c7e09-69c0-47c9-9211-f81666aa8a08",
   "metadata": {},
   "source": [
    "The identify_triangle_type function takes three side lengths as input and uses if-else statements to identify the type of triangle (equilateral, isosceles, or scalene).\n",
    "The main function takes user input for the side lengths, calls the identify_triangle_type function, and prints the result. The program also handles invalid input by catching a ValueError if the user enters a non-numeric value.\n"
   ]
  },
  {
   "cell_type": "markdown",
   "id": "79587d41-b360-4296-907f-4cc263f27a95",
   "metadata": {},
   "source": [
    "# 13:Write a Python program to determine the day of the week based on a user-provided number using if-else"
   ]
  },
  {
   "cell_type": "code",
   "execution_count": 42,
   "id": "07650f1f-cd8e-4ff4-837f-8a1e31fcc6e2",
   "metadata": {},
   "outputs": [
    {
     "name": "stdin",
     "output_type": "stream",
     "text": [
      "Enter a number (1-7) to represent the day of the week:  4\n"
     ]
    },
    {
     "name": "stdout",
     "output_type": "stream",
     "text": [
      "The day of the week is: Thursday\n"
     ]
    }
   ],
   "source": [
    "def determine_day_of_week(day_number):\n",
    "    if day_number == 1:\n",
    "        return \"Monday\"\n",
    "    elif day_number == 2:\n",
    "        return \"Tuesday\"\n",
    "    elif day_number == 3:\n",
    "        return \"Wednesday\"\n",
    "    elif day_number == 4:\n",
    "        return \"Thursday\"\n",
    "    elif day_number == 5:\n",
    "        return \"Friday\"\n",
    "    elif day_number == 6:\n",
    "        return \"Saturday\"\n",
    "    elif day_number == 7:\n",
    "        return \"Sunday\"\n",
    "    else:\n",
    "        return \"Invalid day number. Please enter a number between 1 and 7.\"\n",
    "\n",
    "def main():\n",
    "    try:\n",
    "        # Input the day number from the user\n",
    "        day_number = int(input(\"Enter a number (1-7) to represent the day of the week: \"))\n",
    "\n",
    "        # Determine and print the day of the week\n",
    "        result = determine_day_of_week(day_number)\n",
    "        print(f\"The day of the week is: {result}\")\n",
    "\n",
    "    except ValueError:\n",
    "        print(\"Invalid input. Please enter a valid numeric value for the day number.\")\n",
    "\n",
    "if __name__ == \"__main__\":\n",
    "    main()\n"
   ]
  },
  {
   "cell_type": "raw",
   "id": "0a9c49fd-62ea-4f24-aa67-583939b97660",
   "metadata": {},
   "source": [
    "The determine_day_of_week function takes a day number as input and uses if-else statements to determine the corresponding day of the week.\n",
    "The main function takes user input for the day number, calls the determine_day_of_week function, and prints the result. The program also handles invalid input by catching a ValueError if the user enters a non-numeric value."
   ]
  },
  {
   "cell_type": "markdown",
   "id": "1e2ea5aa-5e14-4549-ae4c-34a483997ad4",
   "metadata": {},
   "source": [
    "# 14:Create a Python program that checks if a given year is a leap year using both if-else and a function."
   ]
  },
  {
   "cell_type": "code",
   "execution_count": 6,
   "id": "a5025f2e-7455-4708-8f75-10fd0a6e60a4",
   "metadata": {},
   "outputs": [
    {
     "name": "stdin",
     "output_type": "stream",
     "text": [
      "Enter a year:  2023\n"
     ]
    },
    {
     "name": "stdout",
     "output_type": "stream",
     "text": [
      "2023 is not a leap year.\n"
     ]
    }
   ],
   "source": [
    "def is_leap_year(year):\n",
    "    if year % 4 == 0:\n",
    "        if year % 100 == 0:\n",
    "            if year % 400 == 0:\n",
    "                return True\n",
    "            else:\n",
    "                return False\n",
    "        else:\n",
    "            return True\n",
    "    else:\n",
    "        return False\n",
    "\n",
    "def main():\n",
    "    try:\n",
    "        # Input year from the user\n",
    "        year = int(input(\"Enter a year: \"))\n",
    "\n",
    "        # Check if it's a leap year and print the result\n",
    "        if is_leap_year(year):\n",
    "            print(f\"{year} is a leap year.\")\n",
    "        else:\n",
    "            print(f\"{year} is not a leap year.\")\n",
    "\n",
    "    except ValueError:\n",
    "        print(\"Invalid input. Please enter a valid year.\")\n",
    "\n",
    "if __name__ == \"__main__\":\n",
    "    main()\n"
   ]
  },
  {
   "cell_type": "markdown",
   "id": "1620f9ab-3ad2-4725-bc0d-2ab91b45cb54",
   "metadata": {},
   "source": [
    "# 15:How do you use the \"assert\" statement in Python to add debugging checks within if-else blocks?\n"
   ]
  },
  {
   "cell_type": "code",
   "execution_count": 10,
   "id": "922e0328-7a2d-4854-add0-aa4a1480fdb5",
   "metadata": {},
   "outputs": [
    {
     "name": "stdout",
     "output_type": "stream",
     "text": [
      "10 is divisible by 2\n",
      "7 is not divisible by 3\n",
      "15 is divisible by 3\n"
     ]
    }
   ],
   "source": [
    "def divide(x, y):\n",
    "    assert y != 0, \"Cannot divide by zero\"\n",
    "    \n",
    "    if x % y == 0:\n",
    "        print(f\"{x} is divisible by {y}\")\n",
    "    else:\n",
    "        print(f\"{x} is not divisible by {y}\")\n",
    "\n",
    "# Example usage:\n",
    "divide(10, 2)   # Output: 10 is divisible by 2\n",
    "divide(7, 3)    # Output: 7 is not divisible by 3\n",
    "divide(15, 3)   # Raises an AssertionError with the message \"Cannot divide by zero\"\n"
   ]
  },
  {
   "cell_type": "markdown",
   "id": "c39dd648-86e0-494c-9a4f-b8d6cde5b073",
   "metadata": {},
   "source": [
    "Certainly! The assert statement in Python is used for debugging by checking whether a given condition is True. If the condition is False, it raises an AssertionError exception. It's commonly used within if-else blocks to add debugging checks. The syntax is assert expression, message, where expression is the condition to check, and message is an optional explanation for the assertion. It's important to note that assert should be used for debugging and not relied upon for normal program flow in production code"
   ]
  },
  {
   "cell_type": "markdown",
   "id": "cd57e3fe-cf72-40eb-89bf-ec9c008e16ca",
   "metadata": {},
   "source": [
    "# 16:Create a Python program that determines the eligibility of a person for a senior citizen discount based on age using if-else.\n"
   ]
  },
  {
   "cell_type": "markdown",
   "id": "9fb65424-5105-4a15-9fe7-b4b4a90041b7",
   "metadata": {},
   "source": [
    "def check_senior_citizen_discount(age):\n",
    "    # Define the age threshold for senior citizen discount\n",
    "    senior_citizen_age = 60\n",
    "\n",
    "    # Check eligibility using if-else statements\n",
    "    if age >= senior_citizen_age:\n",
    "        print(\"Congratulations! You are eligible for a senior citizen discount.\")\n",
    "    else:\n",
    "        print(\"Sorry, you are not eligible for a senior citizen discount.\")\n",
    "\n",
    "# Get the age from the user\n",
    "try:\n",
    "    age = int(input(\"Enter your age: \"))\n",
    "    check_senior_citizen_discount(age)\n",
    "except ValueError:\n",
    "    print(\"Invalid input. Please enter a valid age as a number.\")\n"
   ]
  },
  {
   "cell_type": "markdown",
   "id": "b7115d60-63f4-442b-aaa4-477170325ed0",
   "metadata": {},
   "source": [
    "You can run this program, input an age when prompted, and it will inform the user whether they are eligible for a senior citizen discount or not.\n"
   ]
  },
  {
   "cell_type": "markdown",
   "id": "4fa78ca0-8f45-43a1-bd83-fe81202840b0",
   "metadata": {},
   "source": [
    "# 17:Write a Python program to categorize a given character as uppercase, lowercase, or neither using if-else.\n"
   ]
  },
  {
   "cell_type": "code",
   "execution_count": 13,
   "id": "d2633ba5-2d77-4535-98fa-d78aaf542a75",
   "metadata": {},
   "outputs": [
    {
     "name": "stdin",
     "output_type": "stream",
     "text": [
      "Enter a character:  shahanshah\n"
     ]
    },
    {
     "name": "stdout",
     "output_type": "stream",
     "text": [
      "The character 's' is lowercase.\n"
     ]
    }
   ],
   "source": [
    "def categorize_character(char):\n",
    "    if char.isupper():\n",
    "        print(f\"The character '{char}' is uppercase.\")\n",
    "    elif char.islower():\n",
    "        print(f\"The character '{char}' is lowercase.\")\n",
    "    else:\n",
    "        print(f\"The character '{char}' is neither uppercase nor lowercase.\")\n",
    "\n",
    "# Get the character from the user\n",
    "try:\n",
    "    char = input(\"Enter a character: \")[0]  # Take the first character if the user enters a string\n",
    "    categorize_character(char)\n",
    "except IndexError:\n",
    "    print(\"Please enter a valid character.\")\n"
   ]
  },
  {
   "cell_type": "markdown",
   "id": "a5faf36b-aad7-48d0-8ed4-8fac98b17526",
   "metadata": {},
   "source": [
    "This program defines a function categorize_character that takes a character as input, checks whether it is uppercase, lowercase, or neither using isupper() and islower() methods, and prints the corresponding message. The try and except blocks handle potential input errors, ensuring that the user enters at least one valid character."
   ]
  },
  {
   "cell_type": "markdown",
   "id": "53d8579a-9e9d-48ed-9480-2a6c103cb5c4",
   "metadata": {},
   "source": [
    "# 18: Write a Python program to determine the roots of a quadratic equation using if-else.\n"
   ]
  },
  {
   "cell_type": "code",
   "execution_count": 14,
   "id": "65dcf78a-772c-48bc-b97f-fbbeda4b65a5",
   "metadata": {},
   "outputs": [
    {
     "name": "stdin",
     "output_type": "stream",
     "text": [
      "Enter the coefficient a:  2\n",
      "Enter the coefficient b:  3\n",
      "Enter the coefficient c:  1\n"
     ]
    },
    {
     "name": "stdout",
     "output_type": "stream",
     "text": [
      "The roots are real and distinct: -0.5 and -1.0\n"
     ]
    }
   ],
   "source": [
    "import math\n",
    "\n",
    "def quadratic_roots(a, b, c):\n",
    "    # Calculate the discriminant\n",
    "    discriminant = b**2 - 4*a*c\n",
    "\n",
    "    # Check the nature of the roots using if-else statements\n",
    "    if discriminant > 0:\n",
    "        # Two distinct real roots\n",
    "        root1 = (-b + math.sqrt(discriminant)) / (2*a)\n",
    "        root2 = (-b - math.sqrt(discriminant)) / (2*a)\n",
    "        print(f\"The roots are real and distinct: {root1} and {root2}\")\n",
    "    elif discriminant == 0:\n",
    "        # One real root (double root)\n",
    "        root = -b / (2*a)\n",
    "        print(f\"The root is real and repeated: {root}\")\n",
    "    else:\n",
    "        # Complex roots\n",
    "        real_part = -b / (2*a)\n",
    "        imaginary_part = math.sqrt(abs(discriminant)) / (2*a)\n",
    "        print(f\"The roots are complex: {real_part} + {imaginary_part}i and {real_part} - {imaginary_part}i\")\n",
    "\n",
    "# Get coefficients from the user\n",
    "try:\n",
    "    a = float(input(\"Enter the coefficient a: \"))\n",
    "    b = float(input(\"Enter the coefficient b: \"))\n",
    "    c = float(input(\"Enter the coefficient c: \"))\n",
    "    quadratic_roots(a, b, c)\n",
    "except ValueError:\n",
    "    print(\"Invalid input. Please enter valid numerical coefficients.\")\n",
    "\n"
   ]
  },
  {
   "cell_type": "markdown",
   "id": "2e76f06b-146a-44a8-ae00-9672b76d6c03",
   "metadata": {},
   "source": [
    "This program takes the coefficients \n",
    "�\n",
    "a, \n",
    "�\n",
    "b, and \n",
    "�\n",
    "c as input from the user, calculates the discriminant, and then determines the nature of the roots using if-else statements. The roots are then printed accordingly. The math.sqrt function is used to calculate the square root, and the abs function is used to ensure the correct calculation of complex roots. The try and except blocks handle potential input errors, ensuring that the user enters valid numerical coefficients."
   ]
  },
  {
   "cell_type": "markdown",
   "id": "6de700b3-4038-41f0-aeb3-335000d9c844",
   "metadata": {},
   "source": [
    "# 19 :Create a Python program that checks if a given year is a century year or not using if-else.\n"
   ]
  },
  {
   "cell_type": "code",
   "execution_count": 15,
   "id": "a3ec1f93-73d7-45b1-b995-a86b0a17ac58",
   "metadata": {},
   "outputs": [
    {
     "name": "stdin",
     "output_type": "stream",
     "text": [
      "Enter a year:  2023\n"
     ]
    },
    {
     "name": "stdout",
     "output_type": "stream",
     "text": [
      "2023 is not a century year.\n"
     ]
    }
   ],
   "source": [
    "def is_century_year(year):\n",
    "    # Check if the year is evenly divisible by 100 using if-else statements\n",
    "    if year % 100 == 0:\n",
    "        print(f\"{year} is a century year.\")\n",
    "    else:\n",
    "        print(f\"{year} is not a century year.\")\n",
    "\n",
    "# Get the year from the user\n",
    "try:\n",
    "    year = int(input(\"Enter a year: \"))\n",
    "    is_century_year(year)\n",
    "except ValueError:\n",
    "    print(\"Invalid input. Please enter a valid year as a number.\")\n"
   ]
  },
  {
   "cell_type": "markdown",
   "id": "9966516c-061c-40f6-b51d-e664e137018b",
   "metadata": {},
   "source": [
    "This program defines a function is_century_year that takes a year as input, checks if it is evenly divisible by 100 using the modulo operator (%), and prints the corresponding message. The try and except blocks handle potential input errors, ensuring that the user enters a valid year as a number.\n",
    "\n",
    "\n"
   ]
  },
  {
   "cell_type": "markdown",
   "id": "f59c89e9-f736-48ec-9415-7988623917b0",
   "metadata": {},
   "source": [
    "# 20:Write a Python program to determine if a given number is a perfect square using if-else.\n"
   ]
  },
  {
   "cell_type": "code",
   "execution_count": 16,
   "id": "86d88701-c78b-40de-872c-076977b2bea4",
   "metadata": {},
   "outputs": [
    {
     "name": "stdin",
     "output_type": "stream",
     "text": [
      "Enter a number:  23\n"
     ]
    },
    {
     "name": "stdout",
     "output_type": "stream",
     "text": [
      "23 is not a perfect square.\n"
     ]
    }
   ],
   "source": [
    "def is_perfect_square(number):\n",
    "    # Check if the square root is an integer using if-else statements\n",
    "    square_root = int(number**0.5)\n",
    "    \n",
    "    if square_root**2 == number:\n",
    "        print(f\"{number} is a perfect square.\")\n",
    "    else:\n",
    "        print(f\"{number} is not a perfect square.\")\n",
    "\n",
    "# Get the number from the user\n",
    "try:\n",
    "    number = int(input(\"Enter a number: \"))\n",
    "    is_perfect_square(number)\n",
    "except ValueError:\n",
    "    print(\"Invalid input. Please enter a valid number.\")\n"
   ]
  },
  {
   "cell_type": "markdown",
   "id": "a7cb9cc0-f8bc-43a7-ab05-604113e9f813",
   "metadata": {},
   "source": [
    "This program defines a function is_perfect_square that takes a number as input, calculates its square root, and checks if the square of the calculated root is equal to the original number. If the condition is met, it prints that the number is a perfect square; otherwise, it prints that it is not. The try and except blocks handle potential input errors, ensuring that the user enters a valid number."
   ]
  },
  {
   "cell_type": "markdown",
   "id": "8a54f251-1a25-4dfb-a465-046d2f59b2a7",
   "metadata": {},
   "source": [
    "# 21:Explain the purpose of the \"continue\" and \"break\" statements within if-else loops."
   ]
  },
  {
   "cell_type": "markdown",
   "id": "c744f480-7d59-4e49-ada2-500dab1404fc",
   "metadata": {},
   "source": [
    "# \"continue\" statement:\n",
    "\n",
    "The continue statement is used to skip the rest of the code inside the loop for the current iteration and move on to the next iteration.\n",
    "It is typically used when you want to skip certain parts of the loop's body based on a condition.\n",
    "In an if-else loop, the continue statement can be used inside either the \"if\" block or the \"else\" block to skip the remaining code in that block and proceed to the next iteration of the loop.\n",
    "Example:"
   ]
  },
  {
   "cell_type": "markdown",
   "id": "0bbd9024-a876-4cfa-ac00-ea44810d89cc",
   "metadata": {},
   "source": [
    "# \"break\" statement:\n",
    "\n",
    "The break statement is used to terminate the loop prematurely, regardless of the loop condition.\n",
    "It is often used when a specific condition is met, and there is no need to continue the loop further.\n",
    "In an if-else loop, the break statement can be used inside either the \"if\" block or the \"else\" block to exit the loop prematurely."
   ]
  },
  {
   "cell_type": "markdown",
   "id": "0a1c2f8a-5df3-45cb-b09f-dd24454ec8ac",
   "metadata": {},
   "source": [
    "# 22:Create a Python program that calculates the BMI (Body Mass Index) of a person based on their weight and height using if-else.\n"
   ]
  },
  {
   "cell_type": "code",
   "execution_count": 17,
   "id": "7689a8ef-2e43-469b-99db-50d85de70524",
   "metadata": {},
   "outputs": [
    {
     "name": "stdin",
     "output_type": "stream",
     "text": [
      "Enter weight in kilograms:  55\n",
      "Enter height in centimeters:  55\n"
     ]
    },
    {
     "name": "stdout",
     "output_type": "stream",
     "text": [
      "Your BMI is 181.82, which is considered Obese.\n"
     ]
    }
   ],
   "source": [
    "def calculate_bmi(weight, height):\n",
    "    # Convert height from centimeters to meters\n",
    "    height_meters = height / 100\n",
    "\n",
    "    # Calculate BMI\n",
    "    bmi = weight / (height_meters ** 2)\n",
    "\n",
    "    # Interpret BMI using if-else statements\n",
    "    if bmi < 18.5:\n",
    "        interpretation = \"Underweight\"\n",
    "    elif 18.5 <= bmi < 25:\n",
    "        interpretation = \"Normal weight\"\n",
    "    elif 25 <= bmi < 30:\n",
    "        interpretation = \"Overweight\"\n",
    "    else:\n",
    "        interpretation = \"Obese\"\n",
    "\n",
    "    return bmi, interpretation\n",
    "\n",
    "# Get weight and height from the user\n",
    "try:\n",
    "    weight = float(input(\"Enter weight in kilograms: \"))\n",
    "    height = float(input(\"Enter height in centimeters: \"))\n",
    "    \n",
    "    # Validate input\n",
    "    if weight <= 0 or height <= 0:\n",
    "        raise ValueError(\"Weight and height must be positive numbers.\")\n",
    "\n",
    "    bmi, interpretation = calculate_bmi(weight, height)\n",
    "    print(f\"Your BMI is {bmi:.2f}, which is considered {interpretation}.\")\n",
    "except ValueError as e:\n",
    "    print(f\"Invalid input: {e}\")\n"
   ]
  },
  {
   "cell_type": "markdown",
   "id": "7870fc85-353a-41e6-a202-645a6bab8759",
   "metadata": {},
   "source": [
    "This program defines a function calculate_bmi that takes weight and height as input, calculates the BMI, and interprets the BMI based on predefined categories. The try and except blocks handle potential input errors, ensuring that the user enters valid positive numbers for weight and height.\n",
    "                                                                                                                                                                                                                                                                             "
   ]
  },
  {
   "cell_type": "markdown",
   "id": "dd283785-4538-413a-8620-a5a0d01025c0",
   "metadata": {},
   "source": [
    "# 23:How can you use the \"filter()\" function with if-else statements to filter elements from a list?\n"
   ]
  },
  {
   "cell_type": "code",
   "execution_count": 18,
   "id": "bd313661-cfa5-4a84-9415-96c8b7215229",
   "metadata": {},
   "outputs": [
    {
     "name": "stdout",
     "output_type": "stream",
     "text": [
      "[8, 10, 20]\n"
     ]
    }
   ],
   "source": [
    "# Example list of numbers\n",
    "numbers = [1, 5, 8, 10, 15, 20]\n",
    "\n",
    "# Use filter() with a lambda function and if-else logic to filter even numbers\n",
    "filtered_numbers = filter(lambda x: x % 2 == 0, numbers)\n",
    "\n",
    "# Convert the filter object to a list (optional, depending on your needs)\n",
    "result_list = list(filtered_numbers)\n",
    "\n",
    "# Print the filtered list\n",
    "print(result_list)\n"
   ]
  },
  {
   "cell_type": "markdown",
   "id": "a2554222-1491-49b7-ae13-6f8613513382",
   "metadata": {},
   "source": [
    "In this example, the lambda function (lambda x: x % 2 == 0) is used as the filtering criterion. The lambda function checks whether each element in the list is even (x % 2 == 0). If the condition is true, the element is included in the result; otherwise, it is excluded.\n",
    "\n",
    "You can customize the lambda function and the condition inside it based on your specific filtering requirements."
   ]
  },
  {
   "cell_type": "markdown",
   "id": "789bb201-9a51-4947-bef2-b20ff296f3c8",
   "metadata": {},
   "source": [
    "# 24 :Write a Python program to determine if a given number is prime or not using if-else.\n"
   ]
  },
  {
   "cell_type": "code",
   "execution_count": 19,
   "id": "543b7b9f-222f-43e0-a159-0cca3c4675e4",
   "metadata": {},
   "outputs": [
    {
     "name": "stdin",
     "output_type": "stream",
     "text": [
      "Enter a number:  34\n"
     ]
    },
    {
     "name": "stdout",
     "output_type": "stream",
     "text": [
      "34 is not a prime number.\n"
     ]
    }
   ],
   "source": [
    "def is_prime(number):\n",
    "    # Check if the number is less than 2 (not a prime number)\n",
    "    if number < 2:\n",
    "        return False\n",
    "    # Check for factors from 2 to the square root of the number\n",
    "    for i in range(2, int(number**0.5) + 1):\n",
    "        if number % i == 0:\n",
    "            return False  # Found a factor, not a prime number\n",
    "    return True  # No factors found, it's a prime number\n",
    "\n",
    "# Get the number from the user\n",
    "try:\n",
    "    num = int(input(\"Enter a number: \"))\n",
    "    if is_prime(num):\n",
    "        print(f\"{num} is a prime number.\")\n",
    "    else:\n",
    "        print(f\"{num} is not a prime number.\")\n",
    "except ValueError:\n",
    "    print(\"Invalid input. Please enter a valid number.\")\n"
   ]
  },
  {
   "cell_type": "markdown",
   "id": "f24169ba-a798-4274-803a-2452c5162d46",
   "metadata": {},
   "source": [
    "In this program, the is_prime function takes a number as input and checks whether it's a prime number. It first checks if the number is less than 2 (as 0 and 1 are not prime), and then it iterates from 2 to the square root of the number to check for factors. If any factor is found, the number is not prime; otherwise, it's considered prime.\n"
   ]
  },
  {
   "cell_type": "markdown",
   "id": "f17d40d1-a7e6-4c61-8c58-66c50f7f44a7",
   "metadata": {},
   "source": [
    "# Map :-\n"
   ]
  },
  {
   "cell_type": "markdown",
   "id": "dbd035f4-db09-4c7e-9400-21285d656007",
   "metadata": {},
   "source": [
    "# 1:Explain the purpose of the `map()` function in Python and provide an example of how it can be used to apply a function to each element of an iterable."
   ]
  },
  {
   "cell_type": "code",
   "execution_count": 1,
   "id": "aad25406-ccf7-4136-a042-92ac1e1c073c",
   "metadata": {},
   "outputs": [
    {
     "name": "stdout",
     "output_type": "stream",
     "text": [
      "[1, 4, 9, 16, 25]\n"
     ]
    }
   ],
   "source": [
    "# Define a function to square a number\n",
    "def square(x):\n",
    "    return x ** 2\n",
    "\n",
    "# Create a list of numbers\n",
    "numbers = [1, 2, 3, 4, 5]\n",
    "\n",
    "# Use map() to apply the square function to each element in the list\n",
    "squared_numbers = map(square, numbers)\n",
    "\n",
    "# Convert the result to a list (as map() returns an iterator)\n",
    "squared_numbers_list = list(squared_numbers)\n",
    "\n",
    "# Print the result\n",
    "print(squared_numbers_list)\n"
   ]
  },
  {
   "cell_type": "markdown",
   "id": "75ee3fa7-8e1c-46d6-9936-0bd5ef1d5dcd",
   "metadata": {},
   "source": [
    "This example achieves the same result as the previous one but uses a lambda function instead of a named function. The map() function is a convenient way to apply a function to each element of an iterable without the need for explicit loops."
   ]
  },
  {
   "cell_type": "markdown",
   "id": "119c8ccc-db65-4c95-989f-bfd94d8c70f2",
   "metadata": {},
   "source": [
    "# 2:Write a Python program that uses the `map()` function to square each element of a list of numbers."
   ]
  },
  {
   "cell_type": "code",
   "execution_count": 2,
   "id": "d2b7c782-dba7-4f09-9add-7dad3ba1f9a7",
   "metadata": {},
   "outputs": [
    {
     "name": "stdout",
     "output_type": "stream",
     "text": [
      "Original Numbers: [1, 2, 3, 4, 5]\n",
      "Squared Numbers : [1, 4, 9, 16, 25]\n"
     ]
    }
   ],
   "source": [
    "# Define a function to square a number\n",
    "def square(x):\n",
    "    return x ** 2\n",
    "\n",
    "# Create a list of numbers\n",
    "numbers = [1, 2, 3, 4, 5]\n",
    "\n",
    "# Use map() to apply the square function to each element in the list\n",
    "squared_numbers = map(square, numbers)\n",
    "\n",
    "# Convert the result to a list\n",
    "squared_numbers_list = list(squared_numbers)\n",
    "\n",
    "# Print the original and squared numbers\n",
    "print(\"Original Numbers:\", numbers)\n",
    "print(\"Squared Numbers :\", squared_numbers_list)\n"
   ]
  },
  {
   "cell_type": "markdown",
   "id": "c068430e-942c-47b6-92b9-2daf45b55bc4",
   "metadata": {},
   "source": [
    "This demonstrates how the map() function can be used to apply the square() function to each element in the numbers list, resulting in a new list of squared numbers.\n"
   ]
  },
  {
   "cell_type": "markdown",
   "id": "40e4d26d-966e-4b75-aecf-39409193038e",
   "metadata": {},
   "source": [
    "# 3:How does the `map()` function differ from a list comprehension in Python, and when would you choose one over the other?"
   ]
  },
  {
   "cell_type": "markdown",
   "id": "29d817af-ec43-46a5-bc93-6c64dcbe0c14",
   "metadata": {},
   "source": [
    "The map() function and list comprehensions in Python are both tools for applying a function to each element of an iterable, but they have some differences in terms of syntax and use cases.\n",
    "\n",
    "map() Function:\n",
    "Syntax:\n",
    "\n",
    "map(function, iterable, ...)\n",
    "Return Type:\n",
    "\n",
    "Returns an iterator.\n",
    "Use of Functions:\n",
    "\n",
    "You can use any function with map(), including user-defined functions, built-in functions, or lambda functions.\n",
    "Readability:\n",
    "\n",
    "Some may find map() less readable compared to list comprehensions, especially when using complex functions.\n",
    "Lazy Evaluation:\n",
    "\n",
    "map() returns an iterator, and it performs lazy evaluation. This means that it generates values on-the-fly and doesn't calculate all results at once.\n",
    "List Comprehension:\n",
    "Syntax:\n",
    "\n",
    "[expression for item in iterable if condition]\n",
    "Return Type:\n",
    "\n",
    "Returns a list.\n",
    "Use of Functions:\n",
    "\n",
    "You can use expressions, including functions and conditionals, directly within the list comprehension.\n",
    "Readability:\n",
    "\n",
    "List comprehensions are often considered more readable and concise, especially for simple operations.\n",
    "Eager Evaluation:\n",
    "\n",
    "List comprehensions are eagerly evaluated, meaning that they calculate all values immediately and construct the list.\n",
    "When to Choose One Over the Other:\n",
    "Readability:\n",
    "\n",
    "List comprehensions are generally more readable for simple operations. If the transformation logic is concise, a list comprehension might be more Pythonic.\n",
    "Complex Transformations:\n",
    "\n",
    "If the transformation involves a complex function or multiple iterable arguments, map() with a named function or lambda function might be more appropriate.\n",
    "Lazy Evaluation:\n",
    "\n",
    "If you are working with large datasets and want to avoid loading the entire result into memory at once, map() can be more memory-efficient due to its lazy evaluation.\n",
    "Preference:\n",
    "\n",
    "The choice between map() and list comprehensions often comes down to personal preference and the specific requirements of your code. Some developers may prefer the clarity of list comprehensions, while others might opt for the flexibility of map().\n"
   ]
  },
  {
   "cell_type": "markdown",
   "id": "421e3aab-818b-4a0e-a173-9400d2e891d8",
   "metadata": {},
   "source": [
    "# 4:Create a Python program that uses the `map()` function to convert a list of names to uppercase.\n"
   ]
  },
  {
   "cell_type": "code",
   "execution_count": 3,
   "id": "4299ee12-1ece-4747-b41b-55960a99b4c2",
   "metadata": {},
   "outputs": [
    {
     "name": "stdout",
     "output_type": "stream",
     "text": [
      "Original Names    : ['Alice', 'Bob', 'Charlie', 'David', 'Eve']\n",
      "Uppercase Names   : ['ALICE', 'BOB', 'CHARLIE', 'DAVID', 'EVE']\n"
     ]
    }
   ],
   "source": [
    "# List of names\n",
    "names = [\"Alice\", \"Bob\", \"Charlie\", \"David\", \"Eve\"]\n",
    "\n",
    "# Use map() to convert each name to uppercase\n",
    "uppercase_names = map(str.upper, names)\n",
    "\n",
    "# Convert the result to a list (as map() returns an iterator)\n",
    "uppercase_names_list = list(uppercase_names)\n",
    "\n",
    "# Print the original and uppercase names\n",
    "print(\"Original Names    :\", names)\n",
    "print(\"Uppercase Names   :\", uppercase_names_list)\n"
   ]
  },
  {
   "cell_type": "markdown",
   "id": "ef667696-6eb5-4d63-823a-347ff35ba876",
   "metadata": {},
   "source": [
    "In this example, the str.upper function is applied to each element in the names list using the map() function, resulting in a new list (uppercase_names_list) where each name is converted to uppercase.\n"
   ]
  },
  {
   "cell_type": "markdown",
   "id": "011bd6db-ae2e-4fe6-884d-4ce38106040a",
   "metadata": {},
   "source": [
    "# 5:Write a Python program that uses the `map()` function to calculate the length of each word in a list of strings."
   ]
  },
  {
   "cell_type": "code",
   "execution_count": 4,
   "id": "64ab6ca8-73c3-4f9f-aaa3-8c73e0a0a4d4",
   "metadata": {},
   "outputs": [
    {
     "name": "stdout",
     "output_type": "stream",
     "text": [
      "Original Sentence : ['Hello', 'world', 'Python', 'is', 'awesome']\n",
      "Word Lengths      : [5, 5, 6, 2, 7]\n"
     ]
    }
   ],
   "source": [
    "# List of strings\n",
    "sentence = [\"Hello\", \"world\", \"Python\", \"is\", \"awesome\"]\n",
    "\n",
    "# Use map() to calculate the length of each word\n",
    "word_lengths = map(len, sentence)\n",
    "\n",
    "# Convert the result to a list (as map() returns an iterator)\n",
    "word_lengths_list = list(word_lengths)\n",
    "\n",
    "# Print the original sentence and word lengths\n",
    "print(\"Original Sentence :\", sentence)\n",
    "print(\"Word Lengths      :\", word_lengths_list)\n"
   ]
  },
  {
   "cell_type": "markdown",
   "id": "8a35341b-87b6-4d3b-88e0-5929654e8a33",
   "metadata": {},
   "source": [
    "In this example, the len function is applied to each element in the sentence list using the map() function, resulting in a new list (word_lengths_list) where each element represents the length of the corresponding word in the original list of strings."
   ]
  },
  {
   "cell_type": "markdown",
   "id": "28cd25d5-6d06-42d5-8300-51c80dc07631",
   "metadata": {},
   "source": [
    "# 6:How can you use the `map()` function to apply a custom function to elements of multiple lists simultaneously in Python?\n"
   ]
  },
  {
   "cell_type": "code",
   "execution_count": 5,
   "id": "65b04783-4046-483a-bc8d-9460b0cf535e",
   "metadata": {},
   "outputs": [
    {
     "name": "stdout",
     "output_type": "stream",
     "text": [
      "List 1            : [1, 2, 3, 4]\n",
      "List 2            : [5, 6, 7, 8]\n",
      "Result            : [6, 8, 10, 12]\n"
     ]
    }
   ],
   "source": [
    "# Custom function to add elements from two lists\n",
    "def add_lists(x, y):\n",
    "    return x + y\n",
    "\n",
    "# Two lists\n",
    "list1 = [1, 2, 3, 4]\n",
    "list2 = [5, 6, 7, 8]\n",
    "\n",
    "# Use map() to apply the custom function to corresponding elements of the two lists\n",
    "result = map(add_lists, list1, list2)\n",
    "\n",
    "# Convert the result to a list (as map() returns an iterator)\n",
    "result_list = list(result)\n",
    "\n",
    "# Print the original lists and the result\n",
    "print(\"List 1            :\", list1)\n",
    "print(\"List 2            :\", list2)\n",
    "print(\"Result            :\", result_list)\n"
   ]
  },
  {
   "cell_type": "markdown",
   "id": "7fad699d-2c03-4265-a2aa-8c5d79d4afa3",
   "metadata": {},
   "source": [
    "This demonstrates how you can use the map() function with a custom function to operate on corresponding elements of multiple lists simultaneously. The custom function should take as many parameters as there are input lists, and the map() function will pass elements from each input list as arguments to the custom function.\n"
   ]
  },
  {
   "cell_type": "markdown",
   "id": "d5cd20ec-18f7-41c0-9ce3-ce7f59c15859",
   "metadata": {},
   "source": [
    "# 7:Create a Python program that uses `map()` to convert a list of temperatures from Celsius to Fahrenheit"
   ]
  },
  {
   "cell_type": "code",
   "execution_count": 6,
   "id": "038ed31e-6dee-4e31-b848-08f4f11afd2d",
   "metadata": {},
   "outputs": [
    {
     "name": "stdout",
     "output_type": "stream",
     "text": [
      "Temperatures in Celsius    : [0, 10, 20, 30, 40]\n",
      "Temperatures in Fahrenheit : [32.0, 50.0, 68.0, 86.0, 104.0]\n"
     ]
    }
   ],
   "source": [
    "# Custom function to convert Celsius to Fahrenheit\n",
    "def celsius_to_fahrenheit(celsius):\n",
    "    return (celsius * 9/5) + 32\n",
    "\n",
    "# List of temperatures in Celsius\n",
    "temperatures_celsius = [0, 10, 20, 30, 40]\n",
    "\n",
    "# Use map() to apply the conversion function to each temperature\n",
    "temperatures_fahrenheit = map(celsius_to_fahrenheit, temperatures_celsius)\n",
    "\n",
    "# Convert the result to a list (as map() returns an iterator)\n",
    "temperatures_fahrenheit_list = list(temperatures_fahrenheit)\n",
    "\n",
    "# Print the original temperatures and the converted temperatures\n",
    "print(\"Temperatures in Celsius    :\", temperatures_celsius)\n",
    "print(\"Temperatures in Fahrenheit :\", temperatures_fahrenheit_list)\n"
   ]
  },
  {
   "cell_type": "markdown",
   "id": "b4aaf8a9-e473-4cff-ab2b-c3a00f289a6a",
   "metadata": {},
   "source": [
    "In this example, the celsius_to_fahrenheit function is applied to each element in the temperatures_celsius list using the map() function. The result is a new list (temperatures_fahrenheit_list) containing the temperatures converted from Celsius to Fahrenheit."
   ]
  },
  {
   "cell_type": "markdown",
   "id": "8dd80a37-c7e3-4869-bcf7-886785554a17",
   "metadata": {},
   "source": [
    "# 8:Write a Python program that uses the `map()` function to round each element of a list of floating-point numbers to the nearest integer.\n"
   ]
  },
  {
   "cell_type": "code",
   "execution_count": 7,
   "id": "2326b24b-fa2f-402b-9503-3183f800792f",
   "metadata": {},
   "outputs": [
    {
     "name": "stdout",
     "output_type": "stream",
     "text": [
      "Floating-point Numbers    : [3.14, 2.718, 1.5, 4.9, 6.75]\n",
      "Rounded Integers         : [3, 3, 2, 5, 7]\n"
     ]
    }
   ],
   "source": [
    "# List of floating-point numbers\n",
    "float_numbers = [3.14, 2.718, 1.5, 4.9, 6.75]\n",
    "\n",
    "# Use map() to round each element to the nearest integer\n",
    "rounded_integers = map(round, float_numbers)\n",
    "\n",
    "# Convert the result to a list (as map() returns an iterator)\n",
    "rounded_integers_list = list(rounded_integers)\n",
    "\n",
    "# Print the original floating-point numbers and the rounded integers\n",
    "print(\"Floating-point Numbers    :\", float_numbers)\n",
    "print(\"Rounded Integers         :\", rounded_integers_list)\n"
   ]
  },
  {
   "cell_type": "markdown",
   "id": "c73b780a-f52f-4660-aa2b-0c19b8cfba48",
   "metadata": {},
   "source": [
    "In this example, the round function is applied to each element in the float_numbers list using the map() function. The result is a new list (rounded_integers_list) containing the rounded integers corresponding to each element in the original list of floating-point numbers.\n"
   ]
  },
  {
   "cell_type": "markdown",
   "id": "ccf48ca4-a076-405a-a931-3904ce4460f3",
   "metadata": {},
   "source": [
    "# Reduce :-"
   ]
  },
  {
   "cell_type": "markdown",
   "id": "67a43866-8639-46d5-8e70-c02d15931f8d",
   "metadata": {},
   "source": [
    "# 1:What is the `reduce()` function in Python, and what module should you import to use it? Provide an example of its basic usage."
   ]
  },
  {
   "cell_type": "markdown",
   "id": "0451edad-5a5a-4c5b-b2bf-a9771caf7eb0",
   "metadata": {},
   "source": [
    "The reduce() function in Python is a built-in function that is part of the functools module. It is used to successively apply a binary function (a function that takes two arguments) to the items of an iterable, cumulatively, from left to right, so as to reduce the iterable to a single accumulated result."
   ]
  },
  {
   "cell_type": "code",
   "execution_count": 8,
   "id": "3e0da5e7-2d81-458c-aa84-509c40ee8c8a",
   "metadata": {},
   "outputs": [
    {
     "name": "stdout",
     "output_type": "stream",
     "text": [
      "List of Numbers: [1, 2, 3, 4, 5]\n",
      "Sum of Numbers : 15\n"
     ]
    }
   ],
   "source": [
    "from functools import reduce\n",
    "\n",
    "# Custom function to add two numbers\n",
    "def add(x, y):\n",
    "    return x + y\n",
    "\n",
    "# List of numbers\n",
    "numbers = [1, 2, 3, 4, 5]\n",
    "\n",
    "# Use reduce() to calculate the sum of the numbers\n",
    "sum_of_numbers = reduce(add, numbers)\n",
    "\n",
    "# Print the result\n",
    "print(\"List of Numbers:\", numbers)\n",
    "print(\"Sum of Numbers :\", sum_of_numbers)\n"
   ]
  },
  {
   "cell_type": "markdown",
   "id": "e6c9d5ec-fdd1-4845-bec0-58bd2a409923",
   "metadata": {},
   "source": [
    "# 2:Write a Python program that uses the `reduce()` function to find the product of all elements in a list."
   ]
  },
  {
   "cell_type": "code",
   "execution_count": 9,
   "id": "b849db3d-388b-4561-8e57-94bf084c4e75",
   "metadata": {},
   "outputs": [
    {
     "name": "stdout",
     "output_type": "stream",
     "text": [
      "List of Numbers       : [2, 3, 4, 5]\n",
      "Product of Numbers    : 120\n"
     ]
    }
   ],
   "source": [
    "from functools import reduce\n",
    "\n",
    "# Custom function to multiply two numbers\n",
    "def multiply(x, y):\n",
    "    return x * y\n",
    "\n",
    "# List of numbers\n",
    "numbers = [2, 3, 4, 5]\n",
    "\n",
    "# Use reduce() to calculate the product of the numbers\n",
    "product_of_numbers = reduce(multiply, numbers)\n",
    "\n",
    "# Print the result\n",
    "print(\"List of Numbers       :\", numbers)\n",
    "print(\"Product of Numbers    :\", product_of_numbers)\n"
   ]
  },
  {
   "cell_type": "markdown",
   "id": "a0e85303-7a22-4ec3-9a12-debb0721e6d7",
   "metadata": {},
   "source": [
    "This demonstrates how the reduce() function can be utilized to find the product of all elements in a list by successively applying a binary function."
   ]
  },
  {
   "cell_type": "markdown",
   "id": "4c691bbb-216c-4992-b560-5cb2b44c7fec",
   "metadata": {},
   "source": [
    "# 3:Create a Python program that uses `reduce()` to find the maximum element in a list of numbers.\n"
   ]
  },
  {
   "cell_type": "code",
   "execution_count": 10,
   "id": "ecd20225-cb56-48e0-a040-33429be56313",
   "metadata": {},
   "outputs": [
    {
     "name": "stdout",
     "output_type": "stream",
     "text": [
      "List of Numbers    : [7, 2, 9, 1, 5]\n",
      "Maximum Element    : 9\n"
     ]
    }
   ],
   "source": [
    "from functools import reduce\n",
    "\n",
    "# Custom function to find the maximum of two numbers\n",
    "def find_maximum(x, y):\n",
    "    return max(x, y)\n",
    "\n",
    "# List of numbers\n",
    "numbers = [7, 2, 9, 1, 5]\n",
    "\n",
    "# Use reduce() to find the maximum element in the list\n",
    "max_element = reduce(find_maximum, numbers)\n",
    "\n",
    "# Print the result\n",
    "print(\"List of Numbers    :\", numbers)\n",
    "print(\"Maximum Element    :\", max_element)\n",
    "\n"
   ]
  },
  {
   "cell_type": "markdown",
   "id": "9b616499-c723-459f-b0cc-cc2ff20de503",
   "metadata": {},
   "source": [
    "This demonstrates how the reduce() function can be used to find the maximum element in a list by successively applying a binary function."
   ]
  },
  {
   "cell_type": "markdown",
   "id": "89c9a474-bbcf-40be-9aec-479d01049a65",
   "metadata": {},
   "source": [
    "# 4:How can you use the `reduce()` function to concatenate a list of strings into a single string?\n"
   ]
  },
  {
   "cell_type": "code",
   "execution_count": 12,
   "id": "11db778e-7492-4246-9964-f5ab6632e482",
   "metadata": {},
   "outputs": [
    {
     "name": "stdout",
     "output_type": "stream",
     "text": [
      "List of Strings           : ['Hello', ', ', 'world', '!']\n",
      "Concatenated String       : Hello, world!\n"
     ]
    }
   ],
   "source": [
    "from functools import reduce\n",
    "\n",
    "# Custom function to concatenate two strings\n",
    "def concatenate_strings(x, y):\n",
    "    return x + y\n",
    "\n",
    "# List of strings\n",
    "string_list = [\"Hello\", \", \", \"world\", \"!\"]\n",
    "\n",
    "# Use reduce() to concatenate the strings\n",
    "concatenated_string = reduce(concatenate_strings, string_list)\n",
    "\n",
    "# Print the result\n",
    "print(\"List of Strings           :\", string_list)\n",
    "print(\"Concatenated String       :\", concatenated_string)\n"
   ]
  },
  {
   "cell_type": "markdown",
   "id": "5eb1b6d5-203b-48f6-8b18-fc8a10bade26",
   "metadata": {},
   "source": [
    "This demonstrates how the reduce() function can be utilized to concatenate a list of strings into a single string by successively applying a binary function."
   ]
  },
  {
   "cell_type": "markdown",
   "id": "c8963422-42c8-4771-a43c-70939064cbbb",
   "metadata": {},
   "source": [
    "# 5:Write a Python program that calculates the factorial of a number using the `reduce()` function.\n"
   ]
  },
  {
   "cell_type": "code",
   "execution_count": 16,
   "id": "896e4ee8-f47b-47e6-856c-e02b54171092",
   "metadata": {},
   "outputs": [
    {
     "name": "stdin",
     "output_type": "stream",
     "text": [
      "Enter a number:  6\n"
     ]
    },
    {
     "name": "stdout",
     "output_type": "stream",
     "text": [
      "The factorial of 6 is: 720\n"
     ]
    }
   ],
   "source": [
    "from functools import reduce\n",
    "\n",
    "# Custom function to multiply two numbers\n",
    "def multiply(x, y):\n",
    "    return x * y\n",
    "\n",
    "# Function to calculate the factorial of a number\n",
    "def factorial(n):\n",
    "    # Use reduce() to multiply all numbers from 1 to n\n",
    "    return reduce(multiply, range(1, n + 1), 1)\n",
    "\n",
    "# Input: Number for which factorial is to be calculated\n",
    "number = int(input(\"Enter a number: \"))\n",
    "\n",
    "# Calculate and print the factorial\n",
    "result = factorial(number)\n",
    "print(f\"The factorial of {number} is: {result}\")\n"
   ]
  },
  {
   "cell_type": "markdown",
   "id": "a93fd4e3-1d0c-4be8-b079-57243ad9492d",
   "metadata": {},
   "source": [
    "In this program, the multiply function takes two arguments and returns their product. The factorial function uses the reduce() function to multiply all numbers from 1 to n (inclusive) to calculate the factorial. The range(1, n + 1) generates the numbers from 1 to n, and 1 is the initial value for the reduction.\n",
    "\n",
    "When you run this program, it will prompt you to enter a number, and then it will calculate and print the factorial of that number."
   ]
  },
  {
   "cell_type": "markdown",
   "id": "268b46e3-902e-43b9-b8aa-043341a88ec7",
   "metadata": {},
   "source": [
    "# 6:Create a Python program that uses `reduce()` to find the GCD (Greatest Common Divisor) of a list of numbers.\n"
   ]
  },
  {
   "cell_type": "code",
   "execution_count": 17,
   "id": "c5965322-a423-46f5-b53d-ab6a04b97117",
   "metadata": {},
   "outputs": [
    {
     "name": "stdout",
     "output_type": "stream",
     "text": [
      "List of Numbers    : [12, 18, 24, 36]\n",
      "GCD of Numbers     : 6\n"
     ]
    }
   ],
   "source": [
    "from functools import reduce\n",
    "from math import gcd\n",
    "\n",
    "# Custom function to find the GCD of two numbers\n",
    "def find_gcd(x, y):\n",
    "    return gcd(x, y)\n",
    "\n",
    "# List of numbers\n",
    "numbers = [12, 18, 24, 36]\n",
    "\n",
    "# Use reduce() to find the GCD of the numbers\n",
    "gcd_of_numbers = reduce(find_gcd, numbers)\n",
    "\n",
    "# Print the result\n",
    "print(\"List of Numbers    :\", numbers)\n",
    "print(\"GCD of Numbers     :\", gcd_of_numbers)\n"
   ]
  },
  {
   "cell_type": "markdown",
   "id": "39864189-87d4-45cb-9caf-f39eea6e8e47",
   "metadata": {},
   "source": [
    "This demonstrates how the reduce() function can be used to find the GCD of a list of numbers by successively applying a binary function.\n"
   ]
  },
  {
   "cell_type": "markdown",
   "id": "c5d299c1-6ad5-4a5d-a9a0-f596624f9ea2",
   "metadata": {},
   "source": [
    "# 7:Write a Python program that uses the `reduce()` function to find the sum of the digits of a given number.\n"
   ]
  },
  {
   "cell_type": "code",
   "execution_count": 19,
   "id": "9c6bd85f-d5dd-4d79-a0c8-c4229cab01f3",
   "metadata": {},
   "outputs": [
    {
     "name": "stdin",
     "output_type": "stream",
     "text": [
      "Enter a number:  45\n"
     ]
    },
    {
     "name": "stdout",
     "output_type": "stream",
     "text": [
      "The sum of digits in 45 is: 9\n"
     ]
    }
   ],
   "source": [
    "from functools import reduce\n",
    "\n",
    "# Custom function to add the digits of two numbers\n",
    "def add_digits(x, y):\n",
    "    return int(x) + int(y)\n",
    "\n",
    "# Function to find the sum of digits in a number\n",
    "def sum_of_digits(number):\n",
    "    # Convert the number to a string to access each digit\n",
    "    digits = str(number)\n",
    "    \n",
    "    # Use reduce() to add the digits\n",
    "    return reduce(add_digits, digits, 0)\n",
    "\n",
    "# Input: Number for which sum of digits is to be calculated\n",
    "number = int(input(\"Enter a number: \"))\n",
    "\n",
    "# Calculate and print the sum of digits\n",
    "result = sum_of_digits(number)\n",
    "print(f\"The sum of digits in {number} is: {result}\")\n"
   ]
  },
  {
   "cell_type": "markdown",
   "id": "ce6eaf70-f986-4974-83bd-04e55eab2fa3",
   "metadata": {},
   "source": [
    "In this program, the add_digits function takes two digits (converted to integers) and returns their sum. The sum_of_digits function converts the given number to a string to access each digit and then uses the reduce() function to add the digits successively, starting from the initial value of 0.\n"
   ]
  },
  {
   "cell_type": "markdown",
   "id": "4d2a2df2-9d56-48ae-ad89-bde43c3f5946",
   "metadata": {},
   "source": [
    "# Filter :-"
   ]
  },
  {
   "cell_type": "markdown",
   "id": "15efab6f-a533-409b-8465-4d31a59f8cfc",
   "metadata": {},
   "source": [
    "# 1:Explain the purpose of the `filter()` function in Python and provide an example of how it can be used to filter elements from an iterable.\n"
   ]
  },
  {
   "cell_type": "code",
   "execution_count": 20,
   "id": "f1427606-1474-44a5-b7c4-a64742374a0f",
   "metadata": {},
   "outputs": [
    {
     "name": "stdout",
     "output_type": "stream",
     "text": [
      "Original Numbers : [1, 2, 3, 4, 5, 6, 7, 8, 9, 10]\n",
      "Even Numbers     : [2, 4, 6, 8, 10]\n"
     ]
    }
   ],
   "source": [
    "# Custom function to filter even numbers\n",
    "def is_even(x):\n",
    "    return x % 2 == 0\n",
    "\n",
    "# List of numbers\n",
    "numbers = [1, 2, 3, 4, 5, 6, 7, 8, 9, 10]\n",
    "\n",
    "# Use filter() to filter even numbers from the list\n",
    "filtered_numbers = filter(is_even, numbers)\n",
    "\n",
    "# Convert the result to a list (as filter() returns an iterator)\n",
    "even_numbers_list = list(filtered_numbers)\n",
    "\n",
    "# Print the original and filtered numbers\n",
    "print(\"Original Numbers :\", numbers)\n",
    "print(\"Even Numbers     :\", even_numbers_list)\n"
   ]
  },
  {
   "cell_type": "markdown",
   "id": "b4005b32-4caf-48df-bb76-55ab23fe72dc",
   "metadata": {},
   "source": [
    "This demonstrates how the filter() function can be used to selectively include elements from an iterable based on a specified condition provided by the filtering function."
   ]
  },
  {
   "cell_type": "markdown",
   "id": "3afb8a50-ddee-42d0-9c23-0b8743d00d64",
   "metadata": {},
   "source": [
    "# 3:Write a Python program that uses the `filter()` function to select even numbers from a list of integer"
   ]
  },
  {
   "cell_type": "code",
   "execution_count": 21,
   "id": "c36d4a59-b1d9-46a0-acca-94a0f9c79d1d",
   "metadata": {},
   "outputs": [
    {
     "name": "stdout",
     "output_type": "stream",
     "text": [
      "Original Numbers : [1, 2, 3, 4, 5, 6, 7, 8, 9, 10]\n",
      "Even Numbers     : [2, 4, 6, 8, 10]\n"
     ]
    }
   ],
   "source": [
    "# Custom function to filter even numbers\n",
    "def is_even(x):\n",
    "    return x % 2 == 0\n",
    "\n",
    "# List of numbers\n",
    "numbers = [1, 2, 3, 4, 5, 6, 7, 8, 9, 10]\n",
    "\n",
    "# Use filter() to select even numbers from the list\n",
    "even_numbers = filter(is_even, numbers)\n",
    "\n",
    "# Convert the result to a list (as filter() returns an iterator)\n",
    "even_numbers_list = list(even_numbers)\n",
    "\n",
    "# Print the original and even numbers\n",
    "print(\"Original Numbers :\", numbers)\n",
    "print(\"Even Numbers     :\", even_numbers_list)\n"
   ]
  },
  {
   "cell_type": "markdown",
   "id": "c47c301f-eca5-4e37-8cae-64309e0fd7fb",
   "metadata": {},
   "source": [
    "This demonstrates how the filter() function can be used to selectively include even numbers from a list of integers based on the specified condition provided by the filtering function (is_even)."
   ]
  },
  {
   "cell_type": "markdown",
   "id": "b6644319-f119-481b-8fa9-0e7dbe44c8b5",
   "metadata": {},
   "source": [
    "# 3:Create a Python program that uses the `filter()` function to select names that start with a specific letter from a list of strings.\n"
   ]
  },
  {
   "cell_type": "code",
   "execution_count": 22,
   "id": "49e051c6-bea3-49f3-8536-2475ea83fcb9",
   "metadata": {},
   "outputs": [
    {
     "name": "stdout",
     "output_type": "stream",
     "text": [
      "Original Names    : ['Alice', 'Bob', 'Charlie', 'David', 'Eve', 'Emma']\n",
      "Selected Names    : ['Charlie']\n"
     ]
    }
   ],
   "source": [
    "# Custom function to filter names starting with a specific letter\n",
    "def starts_with_letter(letter, name):\n",
    "    return name.startswith(letter)\n",
    "\n",
    "# List of names\n",
    "names = [\"Alice\", \"Bob\", \"Charlie\", \"David\", \"Eve\", \"Emma\"]\n",
    "\n",
    "# Select names starting with the letter 'C'\n",
    "selected_names = filter(lambda x: starts_with_letter('C', x), names)\n",
    "\n",
    "# Convert the result to a list (as filter() returns an iterator)\n",
    "selected_names_list = list(selected_names)\n",
    "\n",
    "# Print the original and selected names\n",
    "print(\"Original Names    :\", names)\n",
    "print(\"Selected Names    :\", selected_names_list)\n"
   ]
  },
  {
   "cell_type": "markdown",
   "id": "e3bc65db-5a9f-407e-8fdd-77d135bb5da9",
   "metadata": {},
   "source": [
    "This demonstrates how the filter() function can be used to selectively include names from a list of strings based on a specified condition provided by the filtering function (starts_with_letter in this case)."
   ]
  },
  {
   "cell_type": "markdown",
   "id": "6f05d506-97f1-4dab-8562-aefeeac9193b",
   "metadata": {},
   "source": [
    "# 4:Write a Python program that uses the `filter()` function to select prime numbers from a list of integers"
   ]
  },
  {
   "cell_type": "code",
   "execution_count": 23,
   "id": "29aecce8-34fc-4151-bbee-1e7970f08883",
   "metadata": {},
   "outputs": [
    {
     "name": "stdout",
     "output_type": "stream",
     "text": [
      "Original Numbers : [2, 3, 5, 7, 11, 13, 17, 19, 23, 29, 30, 31]\n",
      "Prime Numbers    : [2, 3, 5, 7, 11, 13, 17, 19, 23, 29, 31]\n"
     ]
    }
   ],
   "source": [
    "# Custom function to check if a number is prime\n",
    "def is_prime(number):\n",
    "    if number < 2:\n",
    "        return False\n",
    "    for i in range(2, int(number**0.5) + 1):\n",
    "        if number % i == 0:\n",
    "            return False\n",
    "    return True\n",
    "\n",
    "# List of numbers\n",
    "numbers = [2, 3, 5, 7, 11, 13, 17, 19, 23, 29, 30, 31]\n",
    "\n",
    "# Use filter() to select prime numbers from the list\n",
    "prime_numbers = filter(is_prime, numbers)\n",
    "\n",
    "# Convert the result to a list (as filter() returns an iterator)\n",
    "prime_numbers_list = list(prime_numbers)\n",
    "\n",
    "# Print the original and prime numbers\n",
    "print(\"Original Numbers :\", numbers)\n",
    "print(\"Prime Numbers    :\", prime_numbers_list)\n"
   ]
  },
  {
   "cell_type": "markdown",
   "id": "bf7257c3-6539-4581-8295-0a9f63bf7788",
   "metadata": {},
   "source": [
    "This demonstrates how the filter() function can be used to selectively include prime numbers from a list of integers based on the specified condition provided by the filtering function (is_prime).\n"
   ]
  },
  {
   "cell_type": "markdown",
   "id": "1dd81e61-51c6-4809-80ef-be37a13429da",
   "metadata": {},
   "source": [
    "# 5:How can you use the `filter()` function to remove None values from a list in Python?\n"
   ]
  },
  {
   "cell_type": "code",
   "execution_count": 25,
   "id": "180fc6f5-b9b6-4444-9482-df512618df45",
   "metadata": {},
   "outputs": [
    {
     "name": "stdout",
     "output_type": "stream",
     "text": [
      "Original List     : [1, None, 'apple', None, 42, 'banana', None, 'cherry']\n",
      "Filtered List     : [1, 'apple', 42, 'banana', 'cherry']\n"
     ]
    }
   ],
   "source": [
    "# List with None values\n",
    "mixed_list = [1, None, \"apple\", None, 42, \"banana\", None, \"cherry\"]\n",
    "\n",
    "# Use filter() to remove None values from the list\n",
    "filtered_list = filter(lambda x: x is not None, mixed_list)\n",
    "\n",
    "# Convert the result to a list (as filter() returns an iterator)\n",
    "filtered_list = list(filtered_list)\n",
    "\n",
    "# Print the original and filtered lists\n",
    "print(\"Original List     :\", mixed_list)\n",
    "print(\"Filtered List     :\", filtered_list)\n"
   ]
  },
  {
   "cell_type": "markdown",
   "id": "6f86efc9-db31-47f8-a54a-f651d2359df1",
   "metadata": {},
   "source": [
    "In this example, the filter() function is used with a lambda function that checks if the element is not None. The lambda function returns True for elements that are not None, effectively filtering out the None values.\n"
   ]
  },
  {
   "cell_type": "markdown",
   "id": "4d670c22-32a3-4214-95b3-56f00d507ecf",
   "metadata": {},
   "source": [
    "# 6:Create a Python program that uses `filter()` to select words longer than a certain length from a list of strings.\n"
   ]
  },
  {
   "cell_type": "code",
   "execution_count": 27,
   "id": "0beff760-98d4-49b7-bf94-00ca16b9b6a4",
   "metadata": {},
   "outputs": [
    {
     "name": "stdout",
     "output_type": "stream",
     "text": [
      "Original Words     : ['apple', 'banana', 'kiwi', 'grapefruit', 'orange', 'strawberry']\n",
      "Selected Words (6 or more characters): ['grapefruit', 'strawberry']\n"
     ]
    }
   ],
   "source": [
    "# Custom function to filter words longer than a certain length\n",
    "def is_long_word(word, length):\n",
    "    return len(word) > length\n",
    "\n",
    "# List of strings\n",
    "words = [\"apple\", \"banana\", \"kiwi\", \"grapefruit\", \"orange\", \"strawberry\"]\n",
    "\n",
    "# Minimum length for selected words\n",
    "min_length = 6\n",
    "\n",
    "# Use filter() to select words longer than min_length from the list\n",
    "selected_words = filter(lambda x: is_long_word(x, min_length), words)\n",
    "\n",
    "# Convert the result to a list (as filter() returns an iterator)\n",
    "selected_words_list = list(selected_words)\n",
    "\n",
    "# Print the original and selected words\n",
    "print(\"Original Words     :\", words)\n",
    "print(f\"Selected Words ({min_length} or more characters):\", selected_words_list)\n"
   ]
  },
  {
   "cell_type": "markdown",
   "id": "db319ad6-5751-4383-8fad-baa4d5390c58",
   "metadata": {},
   "source": [
    "In this example, the is_long_word function takes a word and a minimum length and returns True if the length of the word is greater than the specified minimum length. The filter() function is then used to select words longer than min_length from the words list."
   ]
  },
  {
   "cell_type": "markdown",
   "id": "8d4804bb-0132-45d3-9a22-ff43a9d35a36",
   "metadata": {},
   "source": [
    "# 7:Write a Python program that uses the `filter()` function to select elements greater than a specified threshold from a list of values."
   ]
  },
  {
   "cell_type": "code",
   "execution_count": 28,
   "id": "790afbfc-24e4-4283-a1b0-c023bd8acfdb",
   "metadata": {},
   "outputs": [
    {
     "name": "stdout",
     "output_type": "stream",
     "text": [
      "Original Values     : [15, 30, 5, 42, 10, 8, 20]\n",
      "Selected Elements (greater than 20): [30, 42]\n"
     ]
    }
   ],
   "source": [
    "# Custom function to filter elements greater than a threshold\n",
    "def is_greater_than_threshold(element, threshold):\n",
    "    return element > threshold\n",
    "\n",
    "# List of values\n",
    "values = [15, 30, 5, 42, 10, 8, 20]\n",
    "\n",
    "# Threshold for selected elements\n",
    "threshold = 20\n",
    "\n",
    "# Use filter() to select elements greater than the threshold from the list\n",
    "selected_elements = filter(lambda x: is_greater_than_threshold(x, threshold), values)\n",
    "\n",
    "# Convert the result to a list (as filter() returns an iterator)\n",
    "selected_elements_list = list(selected_elements)\n",
    "\n",
    "# Print the original and selected elements\n",
    "print(\"Original Values     :\", values)\n",
    "print(f\"Selected Elements (greater than {threshold}):\", selected_elements_list)\n"
   ]
  },
  {
   "cell_type": "markdown",
   "id": "a65d9af7-4a43-4236-bfd2-b59d24bd1b92",
   "metadata": {},
   "source": [
    "In this example, the is_greater_than_threshold function takes an element and a threshold and returns True if the element is greater than the specified threshold. The filter() function is then used to select elements greater than threshold from the values list."
   ]
  },
  {
   "cell_type": "markdown",
   "id": "f2b24058-4e65-47f6-98cb-e2888ff02659",
   "metadata": {},
   "source": [
    "# Recursion:-"
   ]
  },
  {
   "cell_type": "markdown",
   "id": "caa604c4-2c03-4c8d-a9c1-85b55c25bb69",
   "metadata": {},
   "source": [
    "# 1:Explain the concept of recursion in Python. How does it differ from iteration?\n"
   ]
  },
  {
   "cell_type": "markdown",
   "id": "6c120752-93fe-416c-aa94-502c50b1f502",
   "metadata": {},
   "source": [
    "Recursion is a programming concept where a function calls itself directly or indirectly to solve a problem. In a recursive function, the problem is divided into smaller sub-problems, and each sub-problem is solved using the same function. The process continues until a base case is reached, which provides a solution without further recursion. Recursion is often used to solve problems that can be broken down into smaller, similar sub-problems.\n",
    "\n"
   ]
  },
  {
   "cell_type": "markdown",
   "id": "1c77f275-be02-4276-ab36-636dc1a41674",
   "metadata": {},
   "source": [
    "# 2:Write a Python program to calculate the factorial of a number using recursion"
   ]
  },
  {
   "cell_type": "code",
   "execution_count": 30,
   "id": "931f7356-7117-4d9b-b573-13d1a8f6f829",
   "metadata": {},
   "outputs": [
    {
     "name": "stdin",
     "output_type": "stream",
     "text": [
      "Enter a number:  4\n"
     ]
    },
    {
     "name": "stdout",
     "output_type": "stream",
     "text": [
      "The factorial of 4 is: 24\n"
     ]
    }
   ],
   "source": [
    "def factorial(n):\n",
    "    # Base case: factorial of 0 or 1 is 1\n",
    "    if n == 0 or n == 1:\n",
    "        return 1\n",
    "    # Recursive case: n! = n * (n-1)!\n",
    "    else:\n",
    "        return n * factorial(n - 1)\n",
    "\n",
    "# Input: Number for which factorial is to be calculated\n",
    "number = int(input(\"Enter a number: \"))\n",
    "\n",
    "# Calculate and print the factorial\n",
    "result = factorial(number)\n",
    "print(f\"The factorial of {number} is: {result}\")\n"
   ]
  },
  {
   "cell_type": "markdown",
   "id": "87d7c12c-7307-4322-b25e-bd2981639adc",
   "metadata": {},
   "source": [
    "In this program, the factorial function is defined to calculate the factorial of a given number using recursion. The base case is when the number is 0 or 1, in which case the factorial is 1. For other values of n, the function calls itself with the argument n - 1.\n"
   ]
  },
  {
   "cell_type": "markdown",
   "id": "fc9ad34a-7863-4b4a-b0aa-f59311ad4645",
   "metadata": {},
   "source": [
    "# 3:Create a recursive Python function to find the nth Fibonacci number.\n"
   ]
  },
  {
   "cell_type": "code",
   "execution_count": 31,
   "id": "1e8ce310-814f-453c-a424-a3bf02d9917b",
   "metadata": {},
   "outputs": [
    {
     "name": "stdin",
     "output_type": "stream",
     "text": [
      "Enter the position (n) to find the Fibonacci number:  5\n"
     ]
    },
    {
     "name": "stdout",
     "output_type": "stream",
     "text": [
      "The Fibonacci number at position 5 is: 5\n"
     ]
    }
   ],
   "source": [
    "def fibonacci(n):\n",
    "    # Base cases: Fibonacci of 0 is 0, and Fibonacci of 1 is 1\n",
    "    if n == 0:\n",
    "        return 0\n",
    "    elif n == 1:\n",
    "        return 1\n",
    "    # Recursive case: Fibonacci(n) = Fibonacci(n-1) + Fibonacci(n-2)\n",
    "    else:\n",
    "        return fibonacci(n - 1) + fibonacci(n - 2)\n",
    "\n",
    "# Input: Position of the Fibonacci number to find\n",
    "position = int(input(\"Enter the position (n) to find the Fibonacci number: \"))\n",
    "\n",
    "# Calculate and print the nth Fibonacci number\n",
    "result = fibonacci(position)\n",
    "print(f\"The Fibonacci number at position {position} is: {result}\")\n"
   ]
  },
  {
   "cell_type": "markdown",
   "id": "366a2d83-ee74-425b-a4ff-9ea54f516a2f",
   "metadata": {},
   "source": [
    "In this program, the fibonacci function is defined to find the nth Fibonacci number using recursion. The base cases are when n is 0 or 1, in which case the Fibonacci number is 0 or 1, respectively. For other values of n, the function calls itself with the arguments n - 1 and n - 2.\n"
   ]
  },
  {
   "cell_type": "markdown",
   "id": "a680667f-f846-41a1-93ca-82d203d80018",
   "metadata": {},
   "source": [
    "# 4: Write a recursive Python function to calculate the sum of all elements in a list.\n"
   ]
  },
  {
   "cell_type": "code",
   "execution_count": 32,
   "id": "eb32cc41-885b-4a3a-8577-909fa6ca9805",
   "metadata": {},
   "outputs": [
    {
     "name": "stdin",
     "output_type": "stream",
     "text": [
      "Enter the position (n) to find the Fibonacci number:  8\n"
     ]
    },
    {
     "name": "stdout",
     "output_type": "stream",
     "text": [
      "The Fibonacci number at position 8 is: 21\n"
     ]
    }
   ],
   "source": [
    "def fibonacci(n):\n",
    "    # Base cases: Fibonacci of 0 is 0, and Fibonacci of 1 is 1\n",
    "    if n == 0:\n",
    "        return 0\n",
    "    elif n == 1:\n",
    "        return 1\n",
    "    # Recursive case: Fibonacci(n) = Fibonacci(n-1) + Fibonacci(n-2)\n",
    "    else:\n",
    "        return fibonacci(n - 1) + fibonacci(n - 2)\n",
    "\n",
    "# Input: Position of the Fibonacci number to find\n",
    "position = int(input(\"Enter the position (n) to find the Fibonacci number: \"))\n",
    "\n",
    "# Calculate and print the nth Fibonacci number\n",
    "result = fibonacci(position)\n",
    "print(f\"The Fibonacci number at position {position} is: {result}\")\n"
   ]
  },
  {
   "cell_type": "markdown",
   "id": "3870afa7-9ff3-4728-b9fe-369de3004f88",
   "metadata": {},
   "source": [
    "In this program, the fibonacci function is defined to find the nth Fibonacci number using recursion. The base cases are when n is 0 or 1, in which case the Fibonacci number is 0 or 1, respectively. For other values of n, the function calls itself with the arguments n - 1 and n - 2.\n",
    "\n"
   ]
  },
  {
   "cell_type": "markdown",
   "id": "df26a056-d9b5-4d96-975f-6b5913704894",
   "metadata": {},
   "source": [
    "# 5:How can you prevent a recursive function from running indefinitely, causing a stack overflow error?\n"
   ]
  },
  {
   "cell_type": "markdown",
   "id": "2cac9ac6-ce59-4aa8-bc07-924474622e87",
   "metadata": {},
   "source": [
    "To prevent a recursive function from running indefinitely and causing a stack overflow error, you should ensure that the recursive calls eventually reach a base case. The base case is a condition that stops the recursion, providing a termination point for the function. Without a proper base case, the recursion would continue indefinitely, leading to a stack overflow.\n",
    "\n",
    "Here are some strategies to prevent infinite recursion and avoid stack overflow errors:\n",
    "\n",
    "Define a Base Case:\n",
    "Ensure that your recursive function has a base case that is explicitly defined and will be reached at some point during the recursive calls. The base case should be designed to return a result without making any further recursive calls.\n"
   ]
  },
  {
   "cell_type": "code",
   "execution_count": 34,
   "id": "231e8775-75c6-4fc5-8389-d0bb45419784",
   "metadata": {},
   "outputs": [],
   "source": [
    "def recursive_function(n):\n",
    "    # Base case\n",
    "    if n == 0:\n",
    "        return 0\n",
    "    # Recursive case\n",
    "    else:\n",
    "        return n + recursive_function(n - 1)\n"
   ]
  },
  {
   "cell_type": "markdown",
   "id": "e4669a41-11bb-4df5-8ced-5c4057cd9f22",
   "metadata": {},
   "source": [
    "# 6:Create a recursive Python function to find the greatest common divisor (GCD) of two numbers using the Euclidean algorithm.\n"
   ]
  },
  {
   "cell_type": "code",
   "execution_count": 35,
   "id": "71e23777-0df8-4077-bcef-b3f0d500e5ac",
   "metadata": {},
   "outputs": [
    {
     "name": "stdin",
     "output_type": "stream",
     "text": [
      "Enter the first number:  4\n",
      "Enter the second number:  5\n"
     ]
    },
    {
     "name": "stdout",
     "output_type": "stream",
     "text": [
      "The GCD of 4 and 5 is: 1\n"
     ]
    }
   ],
   "source": [
    "def gcd_euclidean(a, b):\n",
    "    # Base case: GCD(a, 0) = a, and GCD(0, b) = b\n",
    "    if b == 0:\n",
    "        return a\n",
    "    # Recursive case: GCD(a, b) = GCD(b, a % b)\n",
    "    else:\n",
    "        return gcd_euclidean(b, a % b)\n",
    "\n",
    "# Input: Two numbers for which GCD is to be calculated\n",
    "num1 = int(input(\"Enter the first number: \"))\n",
    "num2 = int(input(\"Enter the second number: \"))\n",
    "\n",
    "# Calculate and print the GCD using the Euclidean algorithm\n",
    "result = gcd_euclidean(num1, num2)\n",
    "print(f\"The GCD of {num1} and {num2} is: {result}\")\n"
   ]
  },
  {
   "cell_type": "markdown",
   "id": "f04c37dd-4821-40e0-81b6-633e164697ab",
   "metadata": {},
   "source": [
    "# 7:Write a recursive Python function to reverse a string.\n"
   ]
  },
  {
   "cell_type": "code",
   "execution_count": 36,
   "id": "00e315de-2c22-4f25-b82f-cec29644f74b",
   "metadata": {},
   "outputs": [
    {
     "name": "stdin",
     "output_type": "stream",
     "text": [
      "Enter a string:  \"shahansah\"\n"
     ]
    },
    {
     "name": "stdout",
     "output_type": "stream",
     "text": [
      "The reversed string is: \"hasnahahs\"\n"
     ]
    }
   ],
   "source": [
    "def reverse_string(input_str):\n",
    "    # Base case: an empty string or a string of length 1 is its own reverse\n",
    "    if len(input_str) <= 1:\n",
    "        return input_str\n",
    "    # Recursive case: reverse_string(s) = reverse_string(s[1:]) + s[0]\n",
    "    else:\n",
    "        return reverse_string(input_str[1:]) + input_str[0]\n",
    "\n",
    "# Input: String to be reversed\n",
    "input_string = input(\"Enter a string: \")\n",
    "\n",
    "# Reverse the string using the recursive function\n",
    "result = reverse_string(input_string)\n",
    "print(f\"The reversed string is: {result}\")\n"
   ]
  },
  {
   "cell_type": "markdown",
   "id": "feccd1d5-e102-49b7-9fe8-a88df6c38c4b",
   "metadata": {},
   "source": [
    "In this program, the reverse_string function takes a string input_str and uses recursion to reverse it. The base case checks if the length of the string is 0 or 1, in which case the string is its own reverse. In the recursive case, the function returns the reverse of the substring input_str[1:] followed by the first character input_str[0].\n",
    "\n"
   ]
  },
  {
   "cell_type": "markdown",
   "id": "8d2b6831-efed-4f78-b8b5-618547b74644",
   "metadata": {},
   "source": [
    "# 8:Create a recursive Python function to calculate the power of a number (x^n).\n"
   ]
  },
  {
   "cell_type": "code",
   "execution_count": 38,
   "id": "5a333e14-619c-4702-a381-e1e65a6d860d",
   "metadata": {},
   "outputs": [
    {
     "name": "stdin",
     "output_type": "stream",
     "text": [
      "Enter the base (x):  5\n",
      "Enter the exponent (n):  6\n"
     ]
    },
    {
     "name": "stdout",
     "output_type": "stream",
     "text": [
      "5.0^6 is: 15625.0\n"
     ]
    }
   ],
   "source": [
    "def power(x, n):\n",
    "    # Base case: any number raised to the power of 0 is 1\n",
    "    if n == 0:\n",
    "        return 1\n",
    "    # Recursive case: x^n = x * x^(n-1)\n",
    "    else:\n",
    "        return x * power(x, n - 1)\n",
    "\n",
    "# Input: Base (x) and exponent (n)\n",
    "base = float(input(\"Enter the base (x): \"))\n",
    "exponent = int(input(\"Enter the exponent (n): \"))\n",
    "\n",
    "# Calculate and print the result of x^n using the recursive function\n",
    "result = power(base, exponent)\n",
    "print(f\"{base}^{exponent} is: {result}\")\n"
   ]
  },
  {
   "cell_type": "markdown",
   "id": "428cedc0-f943-47fb-ae81-23e1bc8ede41",
   "metadata": {},
   "source": [
    "In this program, the power function takes two parameters, x (base) and n (exponent), and uses recursion to calculate x^n. The base case checks if n is 0, in which case any number raised to the power of 0 is 1. In the recursive case, the function returns x multiplied by x^(n-1).\n",
    "\n"
   ]
  },
  {
   "cell_type": "markdown",
   "id": "d9fd16d1-04ed-48f1-a95c-60936f332bb1",
   "metadata": {},
   "source": [
    "# 9:Write a recursive Python function to find all permutations of a given string.\n"
   ]
  },
  {
   "cell_type": "code",
   "execution_count": 2,
   "id": "aeb0eb8b-94d8-4e4e-a2c7-420d15acea8b",
   "metadata": {},
   "outputs": [
    {
     "name": "stdin",
     "output_type": "stream",
     "text": [
      "Enter a string:  \"sh\"\n"
     ]
    },
    {
     "name": "stdout",
     "output_type": "stream",
     "text": [
      "All permutations of '\"sh\"': ['\"sh\"', '\"s\"h', '\"hs\"', '\"h\"s', '\"\"sh', '\"\"hs', 's\"h\"', 's\"\"h', 'sh\"\"', 'sh\"\"', 's\"\"h', 's\"h\"', 'h\"s\"', 'h\"\"s', 'hs\"\"', 'hs\"\"', 'h\"\"s', 'h\"s\"', '\"\"sh', '\"\"hs', '\"s\"h', '\"sh\"', '\"h\"s', '\"hs\"']\n"
     ]
    }
   ],
   "source": [
    "def permutations(s):\n",
    "    # Base case: if the string has only one character, return a list containing that character\n",
    "    if len(s) == 1:\n",
    "        return [s]\n",
    "\n",
    "    # Recursive case: generate permutations by fixing each character and permuting the rest\n",
    "    result = []\n",
    "    for i in range(len(s)):\n",
    "        current_char = s[i]\n",
    "        remaining_chars = s[:i] + s[i+1:]\n",
    "\n",
    "        # Recursively find permutations of the remaining characters\n",
    "        for perm in permutations(remaining_chars):\n",
    "            result.append(current_char + perm)\n",
    "\n",
    "    return result\n",
    "\n",
    "# Input: String for which permutations are to be calculated\n",
    "input_string = input(\"Enter a string: \")\n",
    "\n",
    "# Calculate and print the permutations using the recursive function\n",
    "result = permutations(input_string)\n",
    "print(f\"All permutations of '{input_string}': {result}\")\n"
   ]
  },
  {
   "cell_type": "markdown",
   "id": "7306f691-597e-4491-98f6-2740919e0f6d",
   "metadata": {},
   "source": [
    "In this program, the permutations function takes a string s and uses recursion to find all permutations of the characters in the string. The base case is when the string has only one character, in which case a list containing that character is returned. In the recursive case, the function iterates through each character in the string, fixes it, and recursively finds permutations of the remaining characters."
   ]
  },
  {
   "cell_type": "markdown",
   "id": "e40f83f6-c7f0-4271-a686-23cd4af16982",
   "metadata": {},
   "source": [
    "# 10:Write a recursive Python function to check if a string is a palindrome.\n"
   ]
  },
  {
   "cell_type": "code",
   "execution_count": 3,
   "id": "2c0891ab-4185-4750-9873-3d0326acb7f5",
   "metadata": {},
   "outputs": [
    {
     "name": "stdin",
     "output_type": "stream",
     "text": [
      "Enter a string:  \"shahansah\"\n"
     ]
    },
    {
     "name": "stdout",
     "output_type": "stream",
     "text": [
      "The string '\"shahansah\"' is not a palindrome.\n"
     ]
    }
   ],
   "source": [
    "def is_palindrome(s):\n",
    "    # Base case: an empty string or a string of length 1 is a palindrome\n",
    "    if len(s) <= 1:\n",
    "        return True\n",
    "    # Recursive case: check if the first and last characters are the same, and check the rest\n",
    "    else:\n",
    "        return s[0] == s[-1] and is_palindrome(s[1:-1])\n",
    "\n",
    "# Input: String to be checked for palindrome\n",
    "input_string = input(\"Enter a string: \")\n",
    "\n",
    "# Check if the string is a palindrome using the recursive function\n",
    "if is_palindrome(input_string):\n",
    "    print(f\"The string '{input_string}' is a palindrome.\")\n",
    "else:\n",
    "    print(f\"The string '{input_string}' is not a palindrome.\")\n"
   ]
  },
  {
   "cell_type": "markdown",
   "id": "46a34162-1918-48d4-aede-79eb75e469ed",
   "metadata": {},
   "source": [
    "# 11:Create a recursive Python function to generate all possible combinations of a list of elements.\n"
   ]
  },
  {
   "cell_type": "code",
   "execution_count": 4,
   "id": "d95e5bd2-932e-4142-a361-011d851703f6",
   "metadata": {},
   "outputs": [
    {
     "name": "stdin",
     "output_type": "stream",
     "text": [
      "Enter elements separated by spaces:  e\n"
     ]
    },
    {
     "name": "stdout",
     "output_type": "stream",
     "text": [
      "All combinations of ['e']: [[], ['e']]\n"
     ]
    }
   ],
   "source": [
    "def generate_combinations(elements):\n",
    "    # Base case: an empty list has one combination, an empty list\n",
    "    if not elements:\n",
    "        return [[]]\n",
    "\n",
    "    # Recursive case: generate combinations by including or excluding the first element\n",
    "    first_element = elements[0]\n",
    "    rest_combinations = generate_combinations(elements[1:])\n",
    "\n",
    "    # Combinations without including the first element\n",
    "    combinations_without_first = rest_combinations\n",
    "\n",
    "    # Combinations including the first element\n",
    "    combinations_with_first = [[first_element] + combo for combo in rest_combinations]\n",
    "\n",
    "    # Combine both sets of combinations\n",
    "    all_combinations = combinations_without_first + combinations_with_first\n",
    "\n",
    "    return all_combinations\n",
    "\n",
    "# Input: List of elements\n",
    "input_elements = input(\"Enter elements separated by spaces: \").split()\n",
    "\n",
    "# Calculate and print all combinations using the recursive function\n",
    "result = generate_combinations(input_elements)\n",
    "print(f\"All combinations of {input_elements}: {result}\")\n"
   ]
  },
  {
   "cell_type": "markdown",
   "id": "9fcae8cb-d801-4698-a5ec-3645ad38fac4",
   "metadata": {},
   "source": [
    "# Basics of Functions:\n"
   ]
  },
  {
   "cell_type": "markdown",
   "id": "e2c29e3d-50a8-4523-b8d1-c236c8ce9e90",
   "metadata": {},
   "source": [
    "# 1:What is a function in Python, and why is it used?\n"
   ]
  },
  {
   "cell_type": "raw",
   "id": "b8838089-b916-40ac-a108-ef0e5bbc91e3",
   "metadata": {},
   "source": [
    "Definition:- Functions are defined using the def keyword, followed by the function name and a pair of parentheses that may contain parameters."
   ]
  },
  {
   "cell_type": "markdown",
   "id": "adcb314e-284d-47b8-a272-1e377d3fd29a",
   "metadata": {},
   "source": [
    "Functions help break down a large and complex program into smaller, more manageable pieces.\n",
    "Each function can encapsulate a specific task, making the code more organized and easier to understand.\n",
    "This modularity improves code readability and maintainability."
   ]
  },
  {
   "cell_type": "markdown",
   "id": "ef743e55-4856-4615-abf6-594ac798e54d",
   "metadata": {},
   "source": [
    "# 2:How do you define a function in Python? Provide an example.\n"
   ]
  },
  {
   "cell_type": "markdown",
   "id": "666f0a52-f626-4512-9e11-e1a93b25ed65",
   "metadata": {},
   "source": [
    "In Python, you can define a function using the def keyword, followed by the function name, a pair of parentheses containing optional parameters, and a colon :. The function body, which contains the code to be executed, is indented. Here's the general syntax:"
   ]
  },
  {
   "cell_type": "markdown",
   "id": "88be80fa-dee1-4e8e-af17-927cfbc884fb",
   "metadata": {},
   "source": [
    "# 3:Explain the difference between a function definition and a function call.\n"
   ]
  },
  {
   "cell_type": "markdown",
   "id": "ea37fd9a-92d6-491d-bfa4-6ef0fdc81a1f",
   "metadata": {},
   "source": [
    "The terms \"function definition\" and \"function call\" refer to two different aspects of working with functions in programming, particularly in Python.\n"
   ]
  },
  {
   "cell_type": "markdown",
   "id": "53a747da-ff2f-48a9-89b4-46493edadad4",
   "metadata": {},
   "source": [
    "# 4:Write a Python program that defines a function to calculate the sum of two numbers and then calls the function.\n"
   ]
  },
  {
   "cell_type": "code",
   "execution_count": 6,
   "id": "c227032e-1cc0-46da-9526-cea725dd4259",
   "metadata": {},
   "outputs": [
    {
     "name": "stdin",
     "output_type": "stream",
     "text": [
      "Enter the first number:  4\n",
      "Enter the second number:  5\n"
     ]
    },
    {
     "name": "stdout",
     "output_type": "stream",
     "text": [
      "The sum of 4.0 and 5.0 is: 9.0\n"
     ]
    }
   ],
   "source": [
    "def calculate_sum(x, y):\n",
    "    \"\"\"This function calculates the sum of two numbers.\"\"\"\n",
    "    result = x + y\n",
    "    return result\n",
    "\n",
    "# Input: Numbers to be summed\n",
    "number1 = float(input(\"Enter the first number: \"))\n",
    "number2 = float(input(\"Enter the second number: \"))\n",
    "\n",
    "# Call the function and store the result\n",
    "sum_result = calculate_sum(number1, number2)\n",
    "\n",
    "# Display the result\n",
    "print(f\"The sum of {number1} and {number2} is: {sum_result}\")\n"
   ]
  },
  {
   "cell_type": "raw",
   "id": "38e834a2-b0ed-4d71-81e7-e3d607a9cddd",
   "metadata": {},
   "source": [
    "The calculate_sum function is defined to take two parameters, x and y, and return their sum.\n",
    "The user is prompted to enter two numbers.\n",
    "The calculate_sum function is called with the user-inputted numbers, and the result is stored in the variable sum_result.\n",
    "Finally, the program prints the result."
   ]
  },
  {
   "cell_type": "markdown",
   "id": "187f3245-0d9c-4e04-b35e-8cc418877afe",
   "metadata": {},
   "source": [
    "# 5:What is a function signature, and what information does it typically include?\n"
   ]
  },
  {
   "cell_type": "raw",
   "id": "c54f9e91-9537-4439-8171-1f2921e2b406",
   "metadata": {},
   "source": [
    "epresenting the essential information about a function in programming. It provides a clear and structured overview of the function's characteristics, including its name, parameters, return type, and sometimes additional information. The function signature helps programmers understand how to use the function correctly without needing to inspect its entire implementation.\n",
    "\n"
   ]
  },
  {
   "cell_type": "raw",
   "id": "40192ff0-d276-4947-ad25-dfed83673d22",
   "metadata": {},
   "source": [
    "Function Name:\n",
    "\n",
    "The name of the function, which uniquely identifies it within the program.\n",
    "Parameters:\n",
    "\n",
    "The list of input parameters that the function accepts. Each parameter includes its name and data type. Parameter names are separated by commas.\n",
    "Return Type:\n",
    "\n",
    "The data type of the value that the function returns. In languages like Python, where functions can return values of different types or no value (None), this may be specified as -> ReturnType. In statically typed languages, it is often explicit.\n"
   ]
  },
  {
   "cell_type": "markdown",
   "id": "1943d96f-d73c-4f39-8fc9-408f20a75101",
   "metadata": {},
   "source": [
    "# 6:Create a Python function that takes two arguments and returns their product.\n"
   ]
  },
  {
   "cell_type": "code",
   "execution_count": 8,
   "id": "15fbfd5c-fb7a-4cfa-82bc-e45cee5cef13",
   "metadata": {},
   "outputs": [
    {
     "name": "stdin",
     "output_type": "stream",
     "text": [
      "Enter the first number:  5\n",
      "Enter the second number:  6\n"
     ]
    },
    {
     "name": "stdout",
     "output_type": "stream",
     "text": [
      "The product of 5.0 and 6.0 is: 30.0\n"
     ]
    }
   ],
   "source": [
    "def calculate_product(x, y):\n",
    "    \"\"\"This function calculates the product of two numbers.\"\"\"\n",
    "    result = x * y\n",
    "    return result\n",
    "\n",
    "# Example of using the function\n",
    "num1 = float(input(\"Enter the first number: \"))\n",
    "num2 = float(input(\"Enter the second number: \"))\n",
    "\n",
    "# Call the function and store the result\n",
    "product_result = calculate_product(num1, num2)\n",
    "\n",
    "# Display the result\n",
    "print(f\"The product of {num1} and {num2} is: {product_result}\")\n"
   ]
  },
  {
   "cell_type": "markdown",
   "id": "9171c53c-884c-4744-8a88-f613ee5ad3fd",
   "metadata": {},
   "source": [
    "# Function Parameters and Arguments:\n"
   ]
  },
  {
   "cell_type": "markdown",
   "id": "b6aa6d1a-bb64-42e3-86ce-f1b4afa612d3",
   "metadata": {},
   "source": [
    "# 1:Explain the concepts of formal parameters and actual arguments in Python functions.\n"
   ]
  },
  {
   "cell_type": "markdown",
   "id": "64416aca-ff4f-41d8-ba83-4156f907791e",
   "metadata": {},
   "source": [
    "In Python, functions take parameters, which are placeholders for values that the function will receive when it is called. There are two types of parameters: formal parameters (also known as parameters or function parameters) and actual arguments (also known as arguments or function arguments).\n",
    "\n"
   ]
  },
  {
   "cell_type": "code",
   "execution_count": 1,
   "id": "b9878686-baaa-4943-8baf-3241ad2a36bd",
   "metadata": {},
   "outputs": [],
   "source": [
    "def add_numbers(a, b):\n",
    "    # 'a' and 'b' are formal parameters\n",
    "    sum_result = a + b\n",
    "    return sum_result\n"
   ]
  },
  {
   "cell_type": "markdown",
   "id": "a904cd9b-9fed-4c6e-9805-0acb32918a25",
   "metadata": {},
   "source": [
    "# 2:Write a Python program that defines a function with default argument values.\n"
   ]
  },
  {
   "cell_type": "code",
   "execution_count": 11,
   "id": "8c7fca0e-5bc8-447f-b874-182d4edd2e12",
   "metadata": {},
   "outputs": [
    {
     "name": "stdout",
     "output_type": "stream",
     "text": [
      "shahanshah, mohammad!\n",
      "hii, kashinas!\n"
     ]
    }
   ],
   "source": [
    "def greet(name, greeting=\"shahanshah\"):\n",
    "    \"\"\"\n",
    "    This function greets a person with a specified greeting or a default greeting.\n",
    "\n",
    "    Parameters:\n",
    "    - name (str): The name of the person to be greeted.\n",
    "    - greeting (str): The greeting message. Default is \"Hello\".\n",
    "    \"\"\"\n",
    "    print(f\"{greeting}, {name}!\")\n",
    "\n",
    "# Example usage:\n",
    "# Without specifying the greeting, it will use the default \"Hello\".\n",
    "greet(\"mohammad\")\n",
    "\n",
    "# Specifying a custom greeting.\n",
    "greet(\"kashinas\", \"hii\")\n"
   ]
  },
  {
   "cell_type": "markdown",
   "id": "77dddf38-400f-4d55-bfb8-1785d2b385d9",
   "metadata": {},
   "source": [
    "# 3:How do you use keyword arguments in Python function calls? Provide an example.\n"
   ]
  },
  {
   "cell_type": "code",
   "execution_count": 12,
   "id": "dbe7d9e1-056d-4ff5-9f55-63950616d4ff",
   "metadata": {},
   "outputs": [
    {
     "name": "stdout",
     "output_type": "stream",
     "text": [
      "Hi, Alice!!!\n",
      "Hey, Bob...\n",
      "Hello, Charlie!\n"
     ]
    }
   ],
   "source": [
    "def greet(name, greeting=\"Hello\", punctuation=\"!\"):\n",
    "    \"\"\"\n",
    "    This function greets a person with a specified greeting and punctuation.\n",
    "\n",
    "    Parameters:\n",
    "    - name (str): The name of the person to be greeted.\n",
    "    - greeting (str): The greeting message. Default is \"Hello\".\n",
    "    - punctuation (str): The punctuation to be added at the end. Default is \"!\".\n",
    "    \"\"\"\n",
    "    print(f\"{greeting}, {name}{punctuation}\")\n",
    "\n",
    "# Using keyword arguments explicitly\n",
    "greet(name=\"Alice\", greeting=\"Hi\", punctuation=\"!!!\")\n",
    "\n",
    "# You can also mix positional and keyword arguments\n",
    "greet(\"Bob\", punctuation=\"...\", greeting=\"Hey\")\n",
    "\n",
    "# Using only positional arguments\n",
    "greet(\"Charlie\")\n"
   ]
  },
  {
   "cell_type": "markdown",
   "id": "e46aa4d3-135a-460d-8a3a-da0b1e7eea90",
   "metadata": {},
   "source": [
    "# 4:Create a Python function that accepts a variable number of arguments and calculates their sum.\n"
   ]
  },
  {
   "cell_type": "code",
   "execution_count": 16,
   "id": "4be10100-e7ee-4caf-ad3d-84747ae0bdae",
   "metadata": {},
   "outputs": [
    {
     "name": "stdout",
     "output_type": "stream",
     "text": [
      "Sum: 15\n",
      "Sum: 60\n"
     ]
    }
   ],
   "source": [
    "def calculate_sum(*args):\n",
    "    \"\"\"\n",
    "    Calculate the sum of the provided arguments.\n",
    "\n",
    "    Parameters:\n",
    "    - *args: Variable number of arguments.\n",
    "\n",
    "    Returns:\n",
    "    - int or float: The sum of the provided arguments.\n",
    "    \"\"\"\n",
    "    return sum(args)\n",
    "\n",
    "# Example usage:\n",
    "result = calculate_sum(1, 2, 3, 4, 5)\n",
    "print(f\"Sum: {result}\")\n",
    "\n",
    "result = calculate_sum(10, 20, 30)\n",
    "print(f\"Sum: {result}\")\n"
   ]
  },
  {
   "cell_type": "markdown",
   "id": "bbd8aa9c-2cd8-4afe-9a97-9ae497a5107c",
   "metadata": {},
   "source": [
    "In this example, the calculate_sum function uses *args to accept a variable number of arguments. The sum(args) function is then used to calculate the sum of all the provided arguments. You can pass any number of arguments to this function, and it will return their sum."
   ]
  },
  {
   "cell_type": "markdown",
   "id": "a57b471e-c5bc-456f-b093-2beef578ab86",
   "metadata": {},
   "source": [
    "# 5:What is the purpose of the `*args` and `**kwargs` syntax in function parameter lists?\n",
    "\n"
   ]
  },
  {
   "cell_type": "markdown",
   "id": "63295928-ef43-4edd-963d-dea21a9a803b",
   "metadata": {},
   "source": [
    "# *args Example:\n"
   ]
  },
  {
   "cell_type": "code",
   "execution_count": 21,
   "id": "30982e91-5f42-46e6-be11-13f0d9b91789",
   "metadata": {},
   "outputs": [
    {
     "name": "stdout",
     "output_type": "stream",
     "text": [
      "1\n",
      "2\n",
      "3\n",
      "four\n"
     ]
    }
   ],
   "source": [
    "def print_args(*args):\n",
    "    for arg in args:\n",
    "        print(arg)\n",
    "\n",
    "# Example usage\n",
    "print_args(1, 2, 3, \"four\")\n"
   ]
  },
  {
   "cell_type": "code",
   "execution_count": 23,
   "id": "8e8eb136-7a8e-4552-a7fa-86eb5cbb662d",
   "metadata": {},
   "outputs": [
    {
     "name": "stdout",
     "output_type": "stream",
     "text": [
      "1\n",
      "2\n",
      "3\n",
      "four\n"
     ]
    }
   ],
   "source": [
    "def print_args(*args):\n",
    "    for arg in args :\n",
    "        print(arg)\n",
    "print_args(1,2,3,\"four\")"
   ]
  },
  {
   "cell_type": "markdown",
   "id": "e5519a83-dacd-4ca4-aab7-1f12284c9981",
   "metadata": {},
   "source": [
    "# **kwargs Example:"
   ]
  },
  {
   "cell_type": "code",
   "execution_count": 27,
   "id": "18dcf2e8-3a45-40aa-900f-61a2d3e5b29c",
   "metadata": {},
   "outputs": [
    {
     "name": "stdout",
     "output_type": "stream",
     "text": [
      "name: Alice\n",
      "age: 25\n",
      "city: Wonderland\n"
     ]
    }
   ],
   "source": [
    "def print_kwargs(**kwargs):\n",
    "    for key, value in kwargs.items():\n",
    "        print(f\"{key}: {value}\")\n",
    "\n",
    "# Example usage\n",
    "print_kwargs(name=\"Alice\", age=25, city=\"Wonderland\")\n"
   ]
  },
  {
   "cell_type": "markdown",
   "id": "fd6127f1-3741-44e7-9a73-da472fe4640c",
   "metadata": {},
   "source": [
    "# Return Values and Scoping:\n"
   ]
  },
  {
   "cell_type": "markdown",
   "id": "c798e48a-c4b0-4dc9-891e-ae2d4951c327",
   "metadata": {},
   "source": [
    "# 1:Describe the role of the `return` statement in Python functions and provide examples.\n",
    "\n"
   ]
  },
  {
   "cell_type": "markdown",
   "id": "e3a0559b-c094-4134-b114-1bb3b083c1a6",
   "metadata": {},
   "source": [
    "In Python, the return statement is used to exit a function and return a value to the caller. It allows a function to pass back a result or information to the code that called the function. A function can have multiple return statements, but as soon as one is executed, the function terminates, and the specified value is returned.\n",
    "\n"
   ]
  },
  {
   "cell_type": "code",
   "execution_count": 19,
   "id": "810bf97d-ff10-477c-9883-764c95727eb1",
   "metadata": {},
   "outputs": [
    {
     "name": "stdout",
     "output_type": "stream",
     "text": [
      "Sum: 8\n"
     ]
    }
   ],
   "source": [
    "def add_numbers(x, y):\n",
    "    \"\"\"\n",
    "    Add two numbers and return the result.\n",
    "    \"\"\"\n",
    "    result = x + y\n",
    "    return result\n",
    "\n",
    "# Calling the function and storing the result\n",
    "sum_result = add_numbers(3, 5)\n",
    "\n",
    "# Printing the result\n",
    "print(\"Sum:\", sum_result)\n"
   ]
  },
  {
   "cell_type": "markdown",
   "id": "704ca9ef-5a0e-4220-94ae-3f9dcd603590",
   "metadata": {},
   "source": [
    "# 2:Explain the concept of variable scope in Python, including local and global variables.\n"
   ]
  },
  {
   "cell_type": "markdown",
   "id": "9b88453d-6490-4a2e-bcaf-eaf307cb1654",
   "metadata": {},
   "source": [
    "Variable scope in Python refers to the region of the code where a particular variable is accessible or visible. The scope of a variable defines where in the code the variable can be used or modified. Python has two main types of variable scope: local and global.\n",
    "\n"
   ]
  },
  {
   "cell_type": "markdown",
   "id": "f8db9a27-c7cb-4d12-bb33-41d8a328332e",
   "metadata": {},
   "source": [
    "# Local Variables:"
   ]
  },
  {
   "cell_type": "markdown",
   "id": "6fad42bf-e305-401b-a0e1-01f085b85060",
   "metadata": {},
   "source": [
    "Local variables are defined within a function and are only accessible within that function.\n",
    "They are created when the function is called and destroyed when the function exits.\n",
    "Local variables do not affect or interfere with variables of the same name in other functions or in the global scope.\n"
   ]
  },
  {
   "cell_type": "markdown",
   "id": "46ef22ae-cd3a-43cf-8a66-0fa2edd1a58f",
   "metadata": {},
   "source": [
    "# Global Variables:"
   ]
  },
  {
   "cell_type": "markdown",
   "id": "31f756b5-da08-4bc4-9e12-adbe148e8414",
   "metadata": {},
   "source": [
    "Global variables are defined outside of any function and can be accessed and modified by any part of the code, including functions.\n",
    "They persist throughout the entire program.\n",
    "If a variable is assigned a value without being declared as global within a function, Python assumes it is a local variable.\n"
   ]
  },
  {
   "cell_type": "markdown",
   "id": "2c8df35f-f225-4625-8a3b-6fa7f9d0ce1d",
   "metadata": {},
   "source": [
    "# 3:Write a Python program that demonstrates the use of global variables within functions."
   ]
  },
  {
   "cell_type": "code",
   "execution_count": 30,
   "id": "bbbcaaf7-7363-4b87-bf96-ca4a18ecf895",
   "metadata": {},
   "outputs": [
    {
     "name": "stdout",
     "output_type": "stream",
     "text": [
      "Before function call: I am global\n",
      "Inside function: I am global\n",
      "After function call: I am modified\n"
     ]
    }
   ],
   "source": [
    "# Global variable\n",
    "global_var = \"I am global\"\n",
    "\n",
    "def print_global_variable():\n",
    "    # Accessing the global variable inside the function\n",
    "    print(\"Inside function:\", global_var)\n",
    "\n",
    "def modify_global_variable():\n",
    "    # Modifying the global variable inside the function\n",
    "    global global_var\n",
    "    global_var = \"I am modified\"\n",
    "\n",
    "# Initial value of the global variable\n",
    "print(\"Before function call:\", global_var)\n",
    "\n",
    "# Calling the function to print the global variable\n",
    "print_global_variable()\n",
    "\n",
    "# Calling the function to modify the global variable\n",
    "modify_global_variable()\n",
    "\n",
    "# After modifying the global variable\n",
    "print(\"After function call:\", global_var)\n"
   ]
  },
  {
   "cell_type": "markdown",
   "id": "7c7a754a-9345-481e-bdfc-76533b210a12",
   "metadata": {},
   "source": [
    "# 4:Create a Python function that calculates the factorial of a number and returns it.\n"
   ]
  },
  {
   "cell_type": "code",
   "execution_count": 31,
   "id": "681fe9c1-3193-4f3a-abc2-d8a2b1dee38e",
   "metadata": {},
   "outputs": [
    {
     "name": "stdout",
     "output_type": "stream",
     "text": [
      "The factorial of 5 is: 120\n"
     ]
    }
   ],
   "source": [
    "def factorial(n):\n",
    "    \"\"\"\n",
    "    Calculate the factorial of a number.\n",
    "\n",
    "    Parameters:\n",
    "    - n (int): The number for which to calculate the factorial.\n",
    "\n",
    "    Returns:\n",
    "    - int: The factorial of the input number.\n",
    "    \"\"\"\n",
    "    if n == 0 or n == 1:\n",
    "        return 1\n",
    "    else:\n",
    "        return n * factorial(n - 1)\n",
    "\n",
    "# Example usage:\n",
    "number = 5\n",
    "result = factorial(number)\n",
    "print(f\"The factorial of {number} is: {result}\")\n"
   ]
  },
  {
   "cell_type": "markdown",
   "id": "0378f240-fc8e-4f82-ab2a-81dde4041955",
   "metadata": {},
   "source": [
    "# 5:How can you access variables defined outside a function from within the function?\n"
   ]
  },
  {
   "cell_type": "markdown",
   "id": "b2d64979-b99f-4117-9282-e38658bc9c0a",
   "metadata": {},
   "source": [
    "In Python, you can access variables defined outside a function from within the function by using the global keyword or by simply referencing the variable without declaring it as global (assuming you are only reading the value, not modifying it). The behavior depends on whether you want to read or modify the variable."
   ]
  },
  {
   "cell_type": "code",
   "execution_count": 32,
   "id": "bcf30f4c-2830-4f6a-80e0-971e22156b81",
   "metadata": {},
   "outputs": [
    {
     "name": "stdout",
     "output_type": "stream",
     "text": [
      "Inside function: I am global\n"
     ]
    }
   ],
   "source": [
    "global_var = \"I am global\"\n",
    "\n",
    "def read_global_variable():\n",
    "    # Accessing the global variable without using 'global'\n",
    "    print(\"Inside function:\", global_var)\n",
    "\n",
    "# Calling the function\n",
    "read_global_variable()\n"
   ]
  },
  {
   "cell_type": "markdown",
   "id": "a4cade56-976e-4796-be1b-695a5b9f6ca3",
   "metadata": {},
   "source": [
    "# Lambda Functions and Higher-Order Functions:\n"
   ]
  },
  {
   "cell_type": "markdown",
   "id": "a8517d8c-67ab-4bfe-95db-89be55412e40",
   "metadata": {},
   "source": [
    "# 1:What are lambda functions in Python, and when are they typically used?\n"
   ]
  },
  {
   "cell_type": "markdown",
   "id": "06a6ba36-c269-4c64-9fd4-0b898fc4ef66",
   "metadata": {},
   "source": [
    "In Python, a lambda function is a concise way to create small, anonymous functions. It is defined using the lambda keyword, followed by a list of parameters, a colon (:), and an expression. Lambda functions are often used for short-term, specific operations where a full function definition would be overly verbose.\n",
    "\n"
   ]
  },
  {
   "cell_type": "code",
   "execution_count": 34,
   "id": "234bd090-9d81-4245-9771-c329a1a1d7d9",
   "metadata": {},
   "outputs": [
    {
     "data": {
      "text/plain": [
       "<function __main__.<lambda>(parameters)>"
      ]
     },
     "execution_count": 34,
     "metadata": {},
     "output_type": "execute_result"
    }
   ],
   "source": [
    "lambda parameters: expression\n"
   ]
  },
  {
   "cell_type": "markdown",
   "id": "4e6540f8-dea6-4ac0-8b22-14ffa74ddee7",
   "metadata": {},
   "source": [
    "# 2:Write a Python program that uses lambda functions to sort a list of tuples based on the second element.\n"
   ]
  },
  {
   "cell_type": "code",
   "execution_count": 35,
   "id": "e9f32c1d-d404-4fbb-903d-bd3e833fe2cf",
   "metadata": {},
   "outputs": [
    {
     "name": "stdout",
     "output_type": "stream",
     "text": [
      "Sorted Students: [('Charlie', 22), ('Alice', 25), ('Bob', 30)]\n"
     ]
    }
   ],
   "source": [
    "# List of tuples\n",
    "students = [('Alice', 25), ('Bob', 30), ('Charlie', 22)]\n",
    "\n",
    "# Sorting the list based on the second element using lambda\n",
    "sorted_students = sorted(students, key=lambda x: x[1])\n",
    "\n",
    "# Displaying the sorted list\n",
    "print(\"Sorted Students:\", sorted_students)\n"
   ]
  },
  {
   "cell_type": "markdown",
   "id": "c29f26d9-27ca-40d8-9d39-f25140af3323",
   "metadata": {},
   "source": [
    "# 3:Explain the concept of higher-order functions in Python, and provide an example.\n"
   ]
  },
  {
   "cell_type": "markdown",
   "id": "bb6d4273-2968-43e0-8f8c-734289809987",
   "metadata": {},
   "source": [
    "\n",
    "n Python, a higher-order function is a function that can take one or more functions as arguments or return a function as its result. This concept is based on functional programming principles, and it allows for more expressive and modular code by treating functions as first-class citizens.\n"
   ]
  },
  {
   "cell_type": "code",
   "execution_count": 36,
   "id": "f0b7dff2-3c37-473e-b731-5978d3428836",
   "metadata": {},
   "outputs": [
    {
     "name": "stdout",
     "output_type": "stream",
     "text": [
      "Addition: 8\n",
      "Multiplication: 15\n"
     ]
    }
   ],
   "source": [
    "def apply_operation(x, y, operation):\n",
    "    return operation(x, y)\n",
    "\n",
    "# Using a lambda function as an argument\n",
    "result_addition = apply_operation(5, 3, lambda a, b: a + b)\n",
    "result_multiplication = apply_operation(5, 3, lambda a, b: a * b)\n",
    "\n",
    "print(\"Addition:\", result_addition)  # Output: 8\n",
    "print(\"Multiplication:\", result_multiplication)  # Output: 15\n"
   ]
  },
  {
   "cell_type": "markdown",
   "id": "3caf4969-483b-4cd5-bf5a-0571bb210ea6",
   "metadata": {},
   "source": [
    "# 4:Create a Python function that takes a list of numbers and a function as arguments, applying the function to each element in the list.\n"
   ]
  },
  {
   "cell_type": "code",
   "execution_count": null,
   "id": "a24217f9-df9b-4152-9332-3c8ffd2097ab",
   "metadata": {},
   "outputs": [],
   "source": []
  },
  {
   "cell_type": "markdown",
   "id": "bb3186ed-a0c3-43cb-86b8-070c91f91b58",
   "metadata": {},
   "source": [
    "# Built-in Functions:"
   ]
  },
  {
   "cell_type": "markdown",
   "id": "885432fe-1cdb-43b5-b7d8-c375e9383a67",
   "metadata": {},
   "source": [
    "# 1:Describe the role of built-in functions like `len()`, `max()`, and `min()` in Python.\n"
   ]
  },
  {
   "cell_type": "code",
   "execution_count": 38,
   "id": "0bb8d22c-40ca-4b82-ba21-6c6347fce7d7",
   "metadata": {},
   "outputs": [
    {
     "name": "stdout",
     "output_type": "stream",
     "text": [
      "Original Numbers: [1, 2, 3, 4, 5]\n",
      "Squared Numbers: [1, 4, 9, 16, 25]\n"
     ]
    }
   ],
   "source": [
    "def apply_function_to_list(numbers, custom_function):\n",
    "    \"\"\"\n",
    "    Apply a custom function to each element in the list.\n",
    "\n",
    "    Parameters:\n",
    "    - numbers (list): List of numbers.\n",
    "    - custom_function (function): A function to apply to each element.\n",
    "\n",
    "    Returns:\n",
    "    - list: A new list containing the results of applying the function to each element.\n",
    "    \"\"\"\n",
    "    result = [custom_function(num) for num in numbers]\n",
    "    return result\n",
    "\n",
    "# Example usage:\n",
    "\n",
    "# Define a custom function (e.g., square)\n",
    "def square(x):\n",
    "    return x ** 2\n",
    "\n",
    "# List of numbers\n",
    "numbers = [1, 2, 3, 4, 5]\n",
    "\n",
    "# Apply the custom function to each element in the list\n",
    "result_squared = apply_function_to_list(numbers, square)\n",
    "\n",
    "# Display the result\n",
    "print(\"Original Numbers:\", numbers)\n",
    "print(\"Squared Numbers:\", result_squared)\n"
   ]
  },
  {
   "cell_type": "markdown",
   "id": "f0615980-fac5-4fd9-97ea-7529eea50696",
   "metadata": {},
   "source": [
    "# 2:Write a Python program that uses the `map()` function to apply a function to each element of a list."
   ]
  },
  {
   "cell_type": "code",
   "execution_count": 40,
   "id": "1cb0d03d-5b50-4079-962c-25350cd05340",
   "metadata": {},
   "outputs": [
    {
     "name": "stdout",
     "output_type": "stream",
     "text": [
      "Original Numbers: [1, 2, 3, 4, 5]\n",
      "Squared Numbers: [1, 8, 27, 64, 125]\n"
     ]
    }
   ],
   "source": [
    "# Define a custom function (e.g., square)\n",
    "def square(x):\n",
    "    return x ** 3\n",
    "\n",
    "# List of numbers\n",
    "numbers = [1, 2, 3, 4, 5]\n",
    "\n",
    "# Use the map() function to apply the custom function to each element in the list\n",
    "result_squared = list(map(square, numbers))\n",
    "\n",
    "# Display the result\n",
    "print(\"Original Numbers:\", numbers)\n",
    "print(\"Squared Numbers:\", result_squared)\n"
   ]
  },
  {
   "cell_type": "markdown",
   "id": "67470b99-ee36-4a51-87de-1992bc6fa4cd",
   "metadata": {},
   "source": [
    "# 3:How does the `filter()` function work in Python, and when would you use it?\n"
   ]
  },
  {
   "cell_type": "markdown",
   "id": "dd3f0634-3e92-4d5f-80fe-fbf92e856bb4",
   "metadata": {},
   "source": [
    "The filter() function in Python is used to filter elements of an iterable (e.g., a list) based on a specified condition. It returns an iterator containing only the elements for which the given function returns True.\n",
    "\n"
   ]
  },
  {
   "cell_type": "markdown",
   "id": "c904b9bc-2d90-45f7-bcdd-41192fa58e86",
   "metadata": {},
   "source": [
    "# The syntax for filter() is as follows:\n",
    "\n"
   ]
  },
  {
   "cell_type": "code",
   "execution_count": 41,
   "id": "03e182fc-2e9f-4ec4-ae28-66ea1f6ed41b",
   "metadata": {},
   "outputs": [
    {
     "name": "stdout",
     "output_type": "stream",
     "text": [
      "Original Numbers: [1, 2, 3, 4, 5, 6, 7, 8, 9, 10]\n",
      "Even Numbers: [2, 4, 6, 8, 10]\n"
     ]
    }
   ],
   "source": [
    "def is_even(x):\n",
    "    return x % 2 == 0\n",
    "\n",
    "numbers = [1, 2, 3, 4, 5, 6, 7, 8, 9, 10]\n",
    "\n",
    "even_numbers = list(filter(is_even, numbers))\n",
    "\n",
    "print(\"Original Numbers:\", numbers)\n",
    "print(\"Even Numbers:\", even_numbers)\n"
   ]
  },
  {
   "cell_type": "markdown",
   "id": "079403b3-4227-4a98-b69d-e5da93f1a94a",
   "metadata": {},
   "source": [
    "# 4:Create a Python program that uses the `reduce()` function to find the product of all elements in a list.\n"
   ]
  },
  {
   "cell_type": "code",
   "execution_count": 42,
   "id": "d0a90e5f-0e93-428a-984a-9f448824b072",
   "metadata": {},
   "outputs": [
    {
     "name": "stdout",
     "output_type": "stream",
     "text": [
      "Product of Numbers: 120\n"
     ]
    }
   ],
   "source": [
    "from functools import reduce\n",
    "\n",
    "# Example: Calculating the product of all elements in a list\n",
    "numbers = [2, 3, 4, 5]\n",
    "product = reduce(lambda x, y: x * y, numbers)\n",
    "print(\"Product of Numbers:\", product)\n"
   ]
  },
  {
   "cell_type": "markdown",
   "id": "48631b32-bb01-4185-a8c5-4ca3d600c4c9",
   "metadata": {},
   "source": [
    "The reduce() function in Python is used when you need to apply a rolling computation to the items of an iterable, reducing them to a single accumulated result. It's particularly useful for scenarios where you want to perform a binary operation on the elements of an iterable in a cumulative manner. Here are some reasons why you might use the reduce() function:\n",
    "\n"
   ]
  },
  {
   "cell_type": "markdown",
   "id": "e1cf8179-72c7-4d50-934f-f977d2275545",
   "metadata": {},
   "source": [
    "# Function Documentation and Best Practices:\n"
   ]
  },
  {
   "cell_type": "markdown",
   "id": "97baaf80-b1db-4b78-961b-6d4340504611",
   "metadata": {},
   "source": [
    "# 1:Explain the purpose of docstrings in Python functions and how to write them."
   ]
  },
  {
   "cell_type": "markdown",
   "id": "0253f355-a24c-4d5d-bac8-98774fa66ebb",
   "metadata": {},
   "source": [
    "Docstrings in Python are used to document the purpose, usage, and behavior of a function, method, module, or class. The term \"docstring\" is a combination of \"documentation\" and \"string.\" Writing clear and concise docstrings is a good practice as it helps other developers (and yourself) understand how to use the code you've written."
   ]
  },
  {
   "cell_type": "markdown",
   "id": "d3d0797e-537f-434b-8662-ed0a41d57e59",
   "metadata": {},
   "source": [
    "# Documentation:"
   ]
  },
  {
   "cell_type": "markdown",
   "id": "56f3a57c-bd05-45fc-a390-27ddeabd28b0",
   "metadata": {},
   "source": [
    "Docstrings provide a way to document your code. They serve as a form of inline documentation, offering information about the purpose of a function, the parameters it takes, and the values it returns."
   ]
  },
  {
   "cell_type": "code",
   "execution_count": 44,
   "id": "feab02a0-4772-487b-959f-bf624cc9fa56",
   "metadata": {},
   "outputs": [],
   "source": [
    "def add_numbers(a, b):\n",
    "    \"\"\"\n",
    "    Adds two numbers together.\n",
    "\n",
    "    Parameters:\n",
    "    - a (int): The first number.\n",
    "    - b (int): The second number.\n",
    "\n",
    "    Returns:\n",
    "    - int: The sum of a and b.\n",
    "    \"\"\"\n",
    "    return a + b\n"
   ]
  },
  {
   "cell_type": "code",
   "execution_count": null,
   "id": "22efe5bc-6b27-42da-8068-d9a2e0f5b346",
   "metadata": {},
   "outputs": [],
   "source": []
  }
 ],
 "metadata": {
  "kernelspec": {
   "display_name": "Python 3 (ipykernel)",
   "language": "python",
   "name": "python3"
  },
  "language_info": {
   "codemirror_mode": {
    "name": "ipython",
    "version": 3
   },
   "file_extension": ".py",
   "mimetype": "text/x-python",
   "name": "python",
   "nbconvert_exporter": "python",
   "pygments_lexer": "ipython3",
   "version": "3.11.5"
  }
 },
 "nbformat": 4,
 "nbformat_minor": 5
}
